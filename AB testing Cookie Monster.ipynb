{
 "cells": [
  {
   "cell_type": "markdown",
   "id": "c2dbd749",
   "metadata": {},
   "source": [
    "#  A/B Testing - Cookie Cats"
   ]
  },
  {
   "cell_type": "markdown",
   "id": "2d1a3e3e",
   "metadata": {},
   "source": [
    "- [Introduction](#Introduction)\n",
    "- [Data Loading](#Data-Loading)\n",
    "- [Analysis](#Analysis)\n",
    "- [A/B Testing](#A-B-Testing)\n",
    "- [Conclusions](#Conclusions)\n"
   ]
  },
  {
   "cell_type": "markdown",
   "id": "7a6a30c5",
   "metadata": {},
   "source": [
    "## Introduction\n",
    "\n",
    "This dataset includes A/B test results of Cookie Cats App: the purpose is to analyse what happens when the first gate in the game is moved from level 30 to level 40. When a player installed the game, he or she was randomly assigned to either gate_30 or gate_40.\n",
    "\n",
    "### Aim\n",
    "\n",
    "The aim is to study a valid alternative to keep players active for a longer time.\n",
    "\n",
    "\n",
    "### Hyphothesis\n",
    "\n",
    "It is assumed that by positioning the gate at the level 40, the players will find the game easier and keep playing for a longer time. This will lead to a prolonged users' traffic and and bigger revenue from the game.\n",
    "\n",
    "Before proceeding further, the following hypotheses are set for the experiment:  \n",
    "\n",
    "$$\\text{Null hypothesis:}\\quad H_0 = H_1$$  \n",
    "\n",
    "$$\\text{Alternative hypothesis:}\\quad H_0 \\neq H_1$$ \n",
    "\n",
    "The null hypothesis implies that there is no difference between the two version of the game, hence the samples are indenpendent from each others. Viceversa, the second hypothesis refers to the scenario when the samples are dependent from each other."
   ]
  },
  {
   "cell_type": "markdown",
   "id": "09e788b1",
   "metadata": {},
   "source": [
    "## Data Loading"
   ]
  },
  {
   "cell_type": "code",
   "execution_count": 2,
   "id": "d00cf05d",
   "metadata": {},
   "outputs": [],
   "source": [
    "import pandas as pd\n",
    "import numpy as np\n",
    "import matplotlib.pyplot as plt\n",
    "import seaborn as sns\n",
    "from scipy.stats import mannwhitneyu, chi2_contingency, bootstrap"
   ]
  },
  {
   "cell_type": "code",
   "execution_count": 3,
   "id": "628c9770",
   "metadata": {},
   "outputs": [],
   "source": [
    "# Read the CSV file\n",
    "cookie = pd.read_csv(\"cookie_cats.csv\")"
   ]
  },
  {
   "cell_type": "code",
   "execution_count": 4,
   "id": "da00e37e",
   "metadata": {},
   "outputs": [
    {
     "data": {
      "text/html": [
       "<div>\n",
       "<style scoped>\n",
       "    .dataframe tbody tr th:only-of-type {\n",
       "        vertical-align: middle;\n",
       "    }\n",
       "\n",
       "    .dataframe tbody tr th {\n",
       "        vertical-align: top;\n",
       "    }\n",
       "\n",
       "    .dataframe thead th {\n",
       "        text-align: right;\n",
       "    }\n",
       "</style>\n",
       "<table border=\"1\" class=\"dataframe\">\n",
       "  <thead>\n",
       "    <tr style=\"text-align: right;\">\n",
       "      <th></th>\n",
       "      <th>userid</th>\n",
       "      <th>version</th>\n",
       "      <th>sum_gamerounds</th>\n",
       "      <th>retention_1</th>\n",
       "      <th>retention_7</th>\n",
       "    </tr>\n",
       "  </thead>\n",
       "  <tbody>\n",
       "    <tr>\n",
       "      <th>0</th>\n",
       "      <td>116</td>\n",
       "      <td>gate_30</td>\n",
       "      <td>3</td>\n",
       "      <td>False</td>\n",
       "      <td>False</td>\n",
       "    </tr>\n",
       "    <tr>\n",
       "      <th>1</th>\n",
       "      <td>337</td>\n",
       "      <td>gate_30</td>\n",
       "      <td>38</td>\n",
       "      <td>True</td>\n",
       "      <td>False</td>\n",
       "    </tr>\n",
       "    <tr>\n",
       "      <th>2</th>\n",
       "      <td>377</td>\n",
       "      <td>gate_40</td>\n",
       "      <td>165</td>\n",
       "      <td>True</td>\n",
       "      <td>False</td>\n",
       "    </tr>\n",
       "    <tr>\n",
       "      <th>3</th>\n",
       "      <td>483</td>\n",
       "      <td>gate_40</td>\n",
       "      <td>1</td>\n",
       "      <td>False</td>\n",
       "      <td>False</td>\n",
       "    </tr>\n",
       "    <tr>\n",
       "      <th>4</th>\n",
       "      <td>488</td>\n",
       "      <td>gate_40</td>\n",
       "      <td>179</td>\n",
       "      <td>True</td>\n",
       "      <td>True</td>\n",
       "    </tr>\n",
       "  </tbody>\n",
       "</table>\n",
       "</div>"
      ],
      "text/plain": [
       "   userid  version  sum_gamerounds  retention_1  retention_7\n",
       "0     116  gate_30               3        False        False\n",
       "1     337  gate_30              38         True        False\n",
       "2     377  gate_40             165         True        False\n",
       "3     483  gate_40               1        False        False\n",
       "4     488  gate_40             179         True         True"
      ]
     },
     "execution_count": 4,
     "metadata": {},
     "output_type": "execute_result"
    }
   ],
   "source": [
    "# Display the first few rows of each DataFrame\n",
    "cookie.head()"
   ]
  },
  {
   "cell_type": "code",
   "execution_count": 5,
   "id": "3c5e0f23",
   "metadata": {},
   "outputs": [
    {
     "name": "stdout",
     "output_type": "stream",
     "text": [
      "No missing values in the dataset.\n"
     ]
    }
   ],
   "source": [
    "# Clean the data by removing rows with missing values\n",
    "cookie.size\n",
    "nulls = cookie.isnull().sum()\n",
    "nan = cookie.isna().sum()\n",
    "if nulls.sum() == 0 & nan.sum() == 0:\n",
    "    print(\"No missing values in the dataset.\")\n",
    "else:\n",
    "    sum = nulls.sum() + nan.sum()\n",
    "    print(f\"Total number of missing values in the dataset: {sum}\")\n",
    "    cookie = cookie.dropna()\n",
    "    print(\"Missing values have been removed.\")"
   ]
  },
  {
   "cell_type": "markdown",
   "id": "f8ae2437",
   "metadata": {},
   "source": [
    "## Analysis\n"
   ]
  },
  {
   "cell_type": "markdown",
   "id": "8bcf7e02",
   "metadata": {},
   "source": [
    "The metrics in this case have been already selected as the test was runned, the table is only collecting the reults.\n",
    "\n",
    "Despite not a fully test needs to be taken, the metrics and the results have to be reviewed.\n",
    "\n",
    "It is useful to review the structure of the DataSet, like size, statistical features and variable distributions"
   ]
  },
  {
   "cell_type": "code",
   "execution_count": 6,
   "id": "2e446dec",
   "metadata": {},
   "outputs": [
    {
     "name": "stdout",
     "output_type": "stream",
     "text": [
      "<class 'pandas.core.frame.DataFrame'>\n",
      "RangeIndex: 90189 entries, 0 to 90188\n",
      "Data columns (total 5 columns):\n",
      " #   Column          Non-Null Count  Dtype \n",
      "---  ------          --------------  ----- \n",
      " 0   userid          90189 non-null  int64 \n",
      " 1   version         90189 non-null  object\n",
      " 2   sum_gamerounds  90189 non-null  int64 \n",
      " 3   retention_1     90189 non-null  bool  \n",
      " 4   retention_7     90189 non-null  bool  \n",
      "dtypes: bool(2), int64(2), object(1)\n",
      "memory usage: 2.2+ MB\n"
     ]
    }
   ],
   "source": [
    "# Display the information about the DataFrame\n",
    "cookie.info()"
   ]
  },
  {
   "cell_type": "code",
   "execution_count": 18,
   "id": "6a29c40a",
   "metadata": {},
   "outputs": [
    {
     "data": {
      "text/html": [
       "<div>\n",
       "<style scoped>\n",
       "    .dataframe tbody tr th:only-of-type {\n",
       "        vertical-align: middle;\n",
       "    }\n",
       "\n",
       "    .dataframe tbody tr th {\n",
       "        vertical-align: top;\n",
       "    }\n",
       "\n",
       "    .dataframe thead th {\n",
       "        text-align: right;\n",
       "    }\n",
       "</style>\n",
       "<table border=\"1\" class=\"dataframe\">\n",
       "  <thead>\n",
       "    <tr style=\"text-align: right;\">\n",
       "      <th></th>\n",
       "      <th>userid</th>\n",
       "      <th>sum_gamerounds</th>\n",
       "    </tr>\n",
       "  </thead>\n",
       "  <tbody>\n",
       "    <tr>\n",
       "      <th>count</th>\n",
       "      <td>9.018900e+04</td>\n",
       "      <td>90189.000000</td>\n",
       "    </tr>\n",
       "    <tr>\n",
       "      <th>mean</th>\n",
       "      <td>4.998412e+06</td>\n",
       "      <td>51.872457</td>\n",
       "    </tr>\n",
       "    <tr>\n",
       "      <th>std</th>\n",
       "      <td>2.883286e+06</td>\n",
       "      <td>195.050858</td>\n",
       "    </tr>\n",
       "    <tr>\n",
       "      <th>min</th>\n",
       "      <td>1.160000e+02</td>\n",
       "      <td>0.000000</td>\n",
       "    </tr>\n",
       "    <tr>\n",
       "      <th>25%</th>\n",
       "      <td>2.512230e+06</td>\n",
       "      <td>5.000000</td>\n",
       "    </tr>\n",
       "    <tr>\n",
       "      <th>50%</th>\n",
       "      <td>4.995815e+06</td>\n",
       "      <td>16.000000</td>\n",
       "    </tr>\n",
       "    <tr>\n",
       "      <th>75%</th>\n",
       "      <td>7.496452e+06</td>\n",
       "      <td>51.000000</td>\n",
       "    </tr>\n",
       "    <tr>\n",
       "      <th>max</th>\n",
       "      <td>9.999861e+06</td>\n",
       "      <td>49854.000000</td>\n",
       "    </tr>\n",
       "  </tbody>\n",
       "</table>\n",
       "</div>"
      ],
      "text/plain": [
       "             userid  sum_gamerounds\n",
       "count  9.018900e+04    90189.000000\n",
       "mean   4.998412e+06       51.872457\n",
       "std    2.883286e+06      195.050858\n",
       "min    1.160000e+02        0.000000\n",
       "25%    2.512230e+06        5.000000\n",
       "50%    4.995815e+06       16.000000\n",
       "75%    7.496452e+06       51.000000\n",
       "max    9.999861e+06    49854.000000"
      ]
     },
     "execution_count": 18,
     "metadata": {},
     "output_type": "execute_result"
    }
   ],
   "source": [
    "# Display the summary statistics of the DataFrame\n",
    "cookie.describe()"
   ]
  },
  {
   "cell_type": "code",
   "execution_count": 17,
   "id": "c0162780",
   "metadata": {},
   "outputs": [
    {
     "name": "stdout",
     "output_type": "stream",
     "text": [
      "median: 16.0\n"
     ]
    }
   ],
   "source": [
    "# Print the median\n",
    "print(f\"median: {cookie['sum_gamerounds'].median()}\")"
   ]
  },
  {
   "cell_type": "markdown",
   "id": "d2a6084b",
   "metadata": {},
   "source": [
    "The mean is bigger than the median (aka 50th percentile), hence the distribution is right-skewed. The median is then more robust and solid for the representation of the typical value. \n",
    "\n",
    "Due to this, when evaluating the variable sum_gamerounds, we will be using the Mann-Whitney U test instead of a classic t-test that would instead compare the means."
   ]
  },
  {
   "cell_type": "markdown",
   "id": "4de2490a",
   "metadata": {},
   "source": [
    "An important check to be perfomed beforehand is regarding the outliers. We can calculate the distribution of the of gamerounds. "
   ]
  },
  {
   "cell_type": "code",
   "execution_count": 8,
   "id": "f0f86df5",
   "metadata": {},
   "outputs": [],
   "source": [
    "# Create two separate arrays for the two groups\n",
    "game_30 = np.array(cookie.loc[cookie[\"version\"] == \"gate_30\"][\"sum_gamerounds\"])\n",
    "game_40 = np.array(cookie.loc[cookie[\"version\"] == \"gate_40\"][\"sum_gamerounds\"])"
   ]
  },
  {
   "cell_type": "code",
   "execution_count": 9,
   "id": "6a2a2c55",
   "metadata": {},
   "outputs": [
    {
     "data": {
      "image/png": "[encoded data removed]",
      "text/plain": [
       "<Figure size 1000x600 with 2 Axes>"
      ]
     },
     "metadata": {},
     "output_type": "display_data"
    }
   ],
   "source": [
    "plt.figure(figsize=(10, 6))\n",
    "\n",
    "# Plot the boxplot for the two groups for identifying the outliers\n",
    "plt.subplot(1, 2, 1)\n",
    "sns.boxplot(y=game_30)\n",
    "plt.title(\"Boxplot for game_30\")\n",
    "plt.subplot(1, 2, 2)\n",
    "sns.boxplot(y=game_40)\n",
    "plt.title(\"Boxplot for game_40\")\n",
    "\n",
    "# Add labels\n",
    "plt.ylabel(\"Sum of gamerounds\")\n",
    "\n",
    "plt.tight_layout()\n",
    "plt.show()"
   ]
  },
  {
   "cell_type": "markdown",
   "id": "b8194c4a",
   "metadata": {},
   "source": [
    "It is clear how the outlier from the game_30 might impacts the results of the test. By cutting off the outliers we should improve the data quality."
   ]
  },
  {
   "cell_type": "code",
   "execution_count": 10,
   "id": "05440251",
   "metadata": {},
   "outputs": [
    {
     "name": "stdout",
     "output_type": "stream",
     "text": [
      "Number of game_30 is 44699, number of game_40 is 45489\n"
     ]
    }
   ],
   "source": [
    "# Remove the maximum value from the game_30 array and limit those from game_40\n",
    "game_30 = np.delete(game_30, np.argmax(game_30))\n",
    "for i in range(len(game_40)):\n",
    "    if game_40[1] > 1700:\n",
    "        game_40 = np.delete(game_40, i)\n",
    "\n",
    "# Sort the arrays to prepare for the Mann-Whitney U test\n",
    "game_30 = np.sort(game_30)\n",
    "game_40 = np.sort(game_40)\n",
    "\n",
    "print(f\"Number of game_30 is {len(game_30)}, number of game_40 is {len(game_40)}\")"
   ]
  },
  {
   "cell_type": "markdown",
   "id": "06a52221",
   "metadata": {},
   "source": [
    "A slight difference in the samples size is noticed, but considering that this impacts only the 2% of the all population, it can be disregarded.\n",
    "\n",
    "The reason for such difference can be various like natural fluctuation of users or experiment expoure."
   ]
  },
  {
   "cell_type": "code",
   "execution_count": 11,
   "id": "6fcebfc2",
   "metadata": {},
   "outputs": [
    {
     "data": {
      "image/png": "[encoded data removed]",
      "text/plain": [
       "<Figure size 1000x500 with 2 Axes>"
      ]
     },
     "metadata": {},
     "output_type": "display_data"
    }
   ],
   "source": [
    "plt.figure(figsize=(10, 5))\n",
    "\n",
    "# Plot the distribution of the two groups\n",
    "plt.subplot(1, 2, 1)\n",
    "sns.histplot(game_30, kde=True, stat=\"density\", common_norm=False)\n",
    "plt.title(\"Distribution of game_30\")\n",
    "\n",
    "# Set a limite for the x-axis and y-axis\n",
    "plt.xlim(0, 500)\n",
    "plt.ylim(0, 0.05)\n",
    "\n",
    "plt.subplot(1, 2, 2)\n",
    "sns.histplot(game_40, kde=True, stat=\"density\", common_norm=False)\n",
    "plt.title(\"Distribution of game_40\")\n",
    "\n",
    "# Set a limite for the x-axis and y-axis\n",
    "plt.xlim(0, 500)\n",
    "plt.ylim(0, 0.05)\n",
    "\n",
    "# Add labels and title\n",
    "plt.xlabel(\"Game Rounds\")\n",
    "plt.ylabel(\"Density\")\n",
    "\n",
    "plt.show()"
   ]
  },
  {
   "cell_type": "markdown",
   "id": "f2ddc214",
   "metadata": {},
   "source": [
    "From a first glance it is noticed that there is a similar distribution of game rounds regardless the version of the game. We can make the assumption though that such change does not really affect the players' usage, scenario represented by the null hypothesis."
   ]
  },
  {
   "cell_type": "markdown",
   "id": "fce40bc5",
   "metadata": {},
   "source": [
    "## A/B Testing\n",
    "\n",
    " "
   ]
  },
  {
   "cell_type": "markdown",
   "id": "57cb0cd3",
   "metadata": {},
   "source": [
    "### Games rounds testing - Ordinal variable\n",
    "\n",
    "As previously mentioned, due to the distibution not being Normal, a non-paramentric will be used. \n",
    "Precisely, the Mann-Whitney U test will verify if the sample A and sample B are originated by the same population. "
   ]
  },
  {
   "cell_type": "code",
   "execution_count": 12,
   "id": "8d1791df",
   "metadata": {},
   "outputs": [
    {
     "name": "stdout",
     "output_type": "stream",
     "text": [
      "Mann-Whitney U statistic: 1024331250.5, p-value: 0.05020880772044255\n",
      "Total sum of rounds for gate_30: 2344795\n",
      "Total sum of rounds for gate_40: 2333530\n"
     ]
    }
   ],
   "source": [
    "# Run the Mann-Whitney U test\n",
    "stat, p_value = mannwhitneyu(\n",
    "    cookie.loc[cookie[\"version\"] == \"gate_30\"][\"sum_gamerounds\"],\n",
    "    cookie.loc[cookie[\"version\"] == \"gate_40\"][\"sum_gamerounds\"],\n",
    ")\n",
    "print(f\"Mann-Whitney U statistic: {stat}, p-value: {p_value}\")\n",
    "print(\n",
    "    \"Total sum of rounds for gate_30:\",\n",
    "    cookie.loc[cookie[\"version\"] == \"gate_30\"][\"sum_gamerounds\"].sum(),\n",
    ")\n",
    "print(\n",
    "    \"Total sum of rounds for gate_40:\",\n",
    "    cookie.loc[cookie[\"version\"] == \"gate_40\"][\"sum_gamerounds\"].sum(),\n",
    ")"
   ]
  },
  {
   "cell_type": "markdown",
   "id": "b4a1cffe",
   "metadata": {},
   "source": [
    "Due to the distribution not being normal, we cannot use tha classic method to calculate the confidence interval, instead we will proceed with the Bootstrap method."
   ]
  },
  {
   "cell_type": "code",
   "execution_count": 13,
   "id": "fcb9b6d2",
   "metadata": {},
   "outputs": [
    {
     "name": "stdout",
     "output_type": "stream",
     "text": [
      "95% CI: (48.88469314575195, 52.78450393676758)\n",
      "95% CI: (50.80189895629883, 54.708465576171875)\n"
     ]
    }
   ],
   "source": [
    "subset_30 = cookie.loc[cookie[\"version\"] == \"gate_30\", \"sum_gamerounds\"].dropna()\n",
    "subset_40 = cookie.loc[cookie[\"version\"] == \"gate_40\", \"sum_gamerounds\"].dropna()\n",
    "subset = [subset_30, subset_40]\n",
    "\n",
    "for i in range(len(subset)):\n",
    "    # Optional: Downsample\n",
    "    if len(subset[i]) > 10000:\n",
    "        subset[i] = subset[i].sample(n=10000, random_state=42)\n",
    "\n",
    "    # Convert to float32 (save memory)\n",
    "    subset[i] = subset[i].astype(\"float32\")\n",
    "\n",
    "    # Bootstrap with fewer resamples and percentile method\n",
    "    result = bootstrap(\n",
    "        (subset[i].values,),\n",
    "        np.mean,\n",
    "        confidence_level=0.95,\n",
    "        method=\"percentile\",  # lighter\n",
    "        n_resamples=1000,\n",
    "        random_state=42,\n",
    "    )\n",
    "\n",
    "    ci = result.confidence_interval\n",
    "    print(f\"95% CI: ({ci.low}, {ci.high})\")"
   ]
  },
  {
   "cell_type": "markdown",
   "id": "a622ebb1",
   "metadata": {},
   "source": [
    "The Mann-Whitney U statistic counts how many times the values from group A precede those from group B: the bigger the statistic, the bigger the difference between the two groups. \n",
    "The highest statistic value possible is given by the product of the two samples' sizes, in our case 1,988,613,811.\n",
    "\n",
    "Since the Mann-Whitney U test returns a statistic close to the maximum, as well as a p-value bigger than 0.05 we can conclude that the sum of rounds is not affected by the game version.\n",
    "\n",
    "Given that, it is noticed that gate_30 counts a bigger number of rounds."
   ]
  },
  {
   "cell_type": "markdown",
   "id": "3b67af94",
   "metadata": {},
   "source": [
    "### Retention testing - Categorical data\n",
    "\n",
    "Due to its data type, the retention will be studied with a Chi-square test.\n",
    "\n",
    "Chi-square analysis is applied to categorical variables and is especially useful when those variables are nominal (where order doesn’t matter, like marital status or gender).\n",
    "\n",
    "A Chi-square (χ2) statistic is a measure of the difference between the observed and expected frequencies of the outcomes of a set of events or variables. This will help us to determine if the observed results are in line with expected results."
   ]
  },
  {
   "cell_type": "code",
   "execution_count": 14,
   "id": "5f3d637f",
   "metadata": {},
   "outputs": [
    {
     "name": "stdout",
     "output_type": "stream",
     "text": [
      "retention_1  False  True \n",
      "version                  \n",
      "gate_30      24666  20034\n",
      "gate_40      25370  20119\n",
      "Chi-squared statistic: 3.1591007878782262, p-value: 0.07550476210309086\n"
     ]
    }
   ],
   "source": [
    "# Create the contingency table for retention_1 and retention_7\n",
    "table = pd.crosstab(cookie[\"version\"], cookie[\"retention_1\"])\n",
    "\n",
    "# Display the table\n",
    "print(table)\n",
    "\n",
    "# Chi2_contingengy test of independence of variables in a contingency table\n",
    "test = chi2_contingency(table)\n",
    "\n",
    "# Display the test results\n",
    "print(f\"Chi-squared statistic: {test[0]}, p-value: {test[1]}\")"
   ]
  },
  {
   "cell_type": "markdown",
   "id": "3cfc5b69",
   "metadata": {},
   "source": [
    "Both the Chi-squared statistic and p-value show that there likely no dependency between the two versions of the game."
   ]
  },
  {
   "cell_type": "code",
   "execution_count": 15,
   "id": "9c9a7043",
   "metadata": {},
   "outputs": [
    {
     "name": "stdout",
     "output_type": "stream",
     "text": [
      "retention_7  False  True \n",
      "version                  \n",
      "gate_30      36198   8502\n",
      "gate_40      37210   8279\n",
      "Chi-squared statistic: 9.959086799559167, p-value: 0.0016005742679058301\n"
     ]
    }
   ],
   "source": [
    "# Create the contingency table for retention_1 and retention_7\n",
    "table = pd.crosstab(cookie[\"version\"], cookie[\"retention_7\"])\n",
    "\n",
    "# Display the table\n",
    "print(table)\n",
    "\n",
    "# Chi2_contingengy test of independence of variables in a contingency table\n",
    "test = chi2_contingency(table)\n",
    "\n",
    "# Display the test results\n",
    "print(f\"Chi-squared statistic: {test[0]}, p-value: {test[1]}\")"
   ]
  },
  {
   "cell_type": "markdown",
   "id": "49a20c84",
   "metadata": {},
   "source": [
    "In this case though, the p-value is rather low, and the Chi-square statistic high, meaning that we can reject the null hypothesis for the what concerns the gate version."
   ]
  },
  {
   "cell_type": "code",
   "execution_count": 16,
   "id": "c2b271e9",
   "metadata": {},
   "outputs": [
    {
     "data": {
      "image/png": "[encoded data removed]",
      "text/plain": [
       "<Figure size 606x500 with 1 Axes>"
      ]
     },
     "metadata": {},
     "output_type": "display_data"
    },
    {
     "data": {
      "image/png": "[encoded data removed]",
      "text/plain": [
       "<Figure size 606x500 with 1 Axes>"
      ]
     },
     "metadata": {},
     "output_type": "display_data"
    }
   ],
   "source": [
    "# Plot the distribution of retention_1\n",
    "sns.catplot(data=cookie, x=cookie[\"retention_1\"], kind=\"count\", hue=cookie[\"version\"])\n",
    "# Set title, labels and legend\n",
    "plt.title(\"Distribution of Retention 1\")\n",
    "\n",
    "\n",
    "# Plot the distribution of retention_7\n",
    "sns.catplot(data=cookie, x=cookie[\"retention_7\"], kind=\"count\", hue=cookie[\"version\"])\n",
    "# Set title, labels and legend\n",
    "plt.title(\"Distribution of Retention 7\")\n",
    "\n",
    "\n",
    "# Show the plots\n",
    "plt.show()"
   ]
  },
  {
   "cell_type": "markdown",
   "id": "75b1c76c",
   "metadata": {},
   "source": [
    "The two barplots above show the distribution of retention for both the game versions, where we can see a sensible reduction of players after 7 days"
   ]
  },
  {
   "cell_type": "markdown",
   "id": "00149c19",
   "metadata": {},
   "source": [
    "## Conclusions\n"
   ]
  },
  {
   "cell_type": "markdown",
   "id": "15c89d7f",
   "metadata": {},
   "source": [
    "By completing the test, it is possible to make the following conclusions:\n",
    "- \"sum_gamerounds\" and \"retention_1\" are the two metrics where the null hypothesis is rejected, hence any marketing-related decision should be based on these two metrics\n",
    "- Statistically, there is a difference between gate_30 and gate_40, with the second involving slightly less player for less time. Overall though, this seems not to have a significant weight when it comes to real effects.\n",
    "- The analysis is limited to these two metrics, but in a real scenario it should be useful to compare the amount of resources used against the actual revenue generated by the moving the gate to another level\n",
    "-  For a better context, it would be interesting to review how the test was engineering and the data collected"
   ]
  }
 ],
 "metadata": {
  "kernelspec": {
   "display_name": "Python 3",
   "language": "python",
   "name": "python3"
  },
  "language_info": {
   "codemirror_mode": {
    "name": "ipython",
    "version": 3
   },
   "file_extension": ".py",
   "mimetype": "text/x-python",
   "name": "python",
   "nbconvert_exporter": "python",
   "pygments_lexer": "ipython3",
   "version": "3.13.2"
  }
 },
 "nbformat": 4,
 "nbformat_minor": 5
}
