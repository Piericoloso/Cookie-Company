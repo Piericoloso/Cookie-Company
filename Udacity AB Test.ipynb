{
 "cells": [
  {
   "cell_type": "markdown",
   "metadata": {},
   "source": [
    "# Udemy AB Testing Project"
   ]
  },
  {
   "cell_type": "markdown",
   "metadata": {},
   "source": [
    "## Table of Contents"
   ]
  },
  {
   "cell_type": "markdown",
   "metadata": {},
   "source": [
    "- [Introduction](#introduction)\n",
    "- [Data Collection](#data-collection)\n",
    "- [Analysis](#analysis)\n",
    "- [Conclusion](#conclusion)"
   ]
  },
  {
   "cell_type": "markdown",
   "metadata": {},
   "source": [
    "## Introduction"
   ]
  },
  {
   "cell_type": "markdown",
   "metadata": {},
   "source": [
    "Udacity's mission is to power careers through tech education. Working towards this mission, the company aims to provide a stimulating learning experience that is tailored to the individual learner and supported by experienced coaches. To improve its services, Udacity tinkered with changing the user flow on its website and set up an A/B test titled \"Free Trial Screener\" to test its idea."
   ]
  },
  {
   "cell_type": "markdown",
   "metadata": {},
   "source": [
    "### Status quo\n",
    "At the time of the experiment, Udacity courses have two options on the course overview page: \"start free trial\", and \"access course materials\".\n",
    "\n",
    "If students click \"start free trial\", they will be asked to enter their credit card information, and then they will be enrolled in a free trial for the paid version of the course. After 14 days, they will automatically be charged unless they cancel first.\n",
    "\n",
    "If students click \"access course materials\", they will be able to view the videos and take the quizzes for free, but they will not receive coaching support or a verified certificate, and they will not submit their final project for feedback."
   ]
  },
  {
   "cell_type": "markdown",
   "metadata": {},
   "source": [
    "### Treatment\n",
    "In the experiment, Udacity tests a change where if students click \"start free trial\", they are asked how much time they have available to devote to the course.\n",
    "\n",
    "If students indicate 5 or more hours per week, they are taken through the checkout process as usual.\n",
    "\n",
    "If they indicate fewer than 5 hours per week, a message appears indicating that Udacity courses usually require a greater time commitment for successful completion, and suggesting that the student might like to access the course materials for free. At this point, students have the option to continue enrolling in the free trial, or access the course materials for free instead. This screenshot shows what the experiment looks like.\n",
    "\n",
    "\n",
    "### Reasoning\n",
    "The hypothesis is that this might set clearer expectations for students upfront, thus reducing the number of frustrated students who left the free trial because they didn't have enough time—without significantly reducing the number of students to continue past the free trial and eventually complete the course.\n",
    "\n",
    "If this hypothesis held true, Udacity could improve the overall student experience and improve coaches' capacity to support students who are likely to complete the course."
   ]
  },
  {
   "cell_type": "markdown",
   "metadata": {},
   "source": [
    "## Data Collection"
   ]
  },
  {
   "cell_type": "code",
   "execution_count": null,
   "metadata": {},
   "outputs": [
    {
     "name": "stderr",
     "output_type": "stream",
     "text": [
      "\n",
      "[notice] A new release of pip is available: 24.3.1 -> 25.0.1\n",
      "[notice] To update, run: python.exe -m pip install --upgrade pip\n"
     ]
    },
    {
     "name": "stdout",
     "output_type": "stream",
     "text": [
      "Collecting numpy\n",
      "  Downloading numpy-2.2.4-cp313-cp313-win_amd64.whl.metadata (60 kB)\n",
      "Downloading numpy-2.2.4-cp313-cp313-win_amd64.whl (12.6 MB)\n",
      "   ---------------------------------------- 0.0/12.6 MB ? eta -:--:--\n",
      "   ---- ----------------------------------- 1.3/12.6 MB 6.9 MB/s eta 0:00:02\n",
      "   ------- -------------------------------- 2.4/12.6 MB 6.2 MB/s eta 0:00:02\n",
      "   ----------- ---------------------------- 3.7/12.6 MB 5.8 MB/s eta 0:00:02\n",
      "   --------------- ------------------------ 5.0/12.6 MB 5.8 MB/s eta 0:00:02\n",
      "   ------------------- -------------------- 6.3/12.6 MB 5.8 MB/s eta 0:00:02\n",
      "   ------------------------ --------------- 7.6/12.6 MB 5.9 MB/s eta 0:00:01\n",
      "   ---------------------------- ----------- 8.9/12.6 MB 5.9 MB/s eta 0:00:01\n",
      "   --------------------------------- ------ 10.5/12.6 MB 5.9 MB/s eta 0:00:01\n",
      "   ------------------------------------- -- 11.8/12.6 MB 6.0 MB/s eta 0:00:01\n",
      "   ---------------------------------------  12.6/12.6 MB 6.0 MB/s eta 0:00:01\n",
      "   ---------------------------------------  12.6/12.6 MB 6.0 MB/s eta 0:00:01\n",
      "   ---------------------------------------- 12.6/12.6 MB 5.1 MB/s eta 0:00:00\n",
      "Installing collected packages: numpy\n",
      "Successfully installed numpy-2.2.4\n",
      "Note: you may need to restart the kernel to use updated packages.\n"
     ]
    },
    {
     "ename": "ModuleNotFoundError",
     "evalue": "No module named 'pandas'",
     "output_type": "error",
     "traceback": [
      "\u001b[31m---------------------------------------------------------------------------\u001b[39m",
      "\u001b[31mModuleNotFoundError\u001b[39m                       Traceback (most recent call last)",
      "\u001b[36mCell\u001b[39m\u001b[36m \u001b[39m\u001b[32mIn[3]\u001b[39m\u001b[32m, line 6\u001b[39m\n\u001b[32m      3\u001b[39m get_ipython().run_line_magic(\u001b[33m'\u001b[39m\u001b[33mpip\u001b[39m\u001b[33m'\u001b[39m, \u001b[33m'\u001b[39m\u001b[33minstall numpy\u001b[39m\u001b[33m'\u001b[39m)\n\u001b[32m      5\u001b[39m \u001b[38;5;28;01mimport\u001b[39;00m\u001b[38;5;250m \u001b[39m\u001b[34;01mnumpy\u001b[39;00m\u001b[38;5;250m \u001b[39m\u001b[38;5;28;01mas\u001b[39;00m\u001b[38;5;250m \u001b[39m\u001b[34;01mnp\u001b[39;00m\n\u001b[32m----> \u001b[39m\u001b[32m6\u001b[39m \u001b[38;5;28;01mimport\u001b[39;00m\u001b[38;5;250m \u001b[39m\u001b[34;01mpandas\u001b[39;00m\u001b[38;5;250m \u001b[39m\u001b[38;5;28;01mas\u001b[39;00m\u001b[38;5;250m \u001b[39m\u001b[34;01mpd\u001b[39;00m\n\u001b[32m      7\u001b[39m \u001b[38;5;28;01mfrom\u001b[39;00m\u001b[38;5;250m \u001b[39m\u001b[34;01mscipy\u001b[39;00m\u001b[38;5;250m \u001b[39m\u001b[38;5;28;01mimport\u001b[39;00m stats\n\u001b[32m      8\u001b[39m \u001b[38;5;28;01mfrom\u001b[39;00m\u001b[38;5;250m \u001b[39m\u001b[34;01mstatsmodels\u001b[39;00m\u001b[34;01m.\u001b[39;00m\u001b[34;01mstats\u001b[39;00m\u001b[34;01m.\u001b[39;00m\u001b[34;01mproportion\u001b[39;00m\u001b[38;5;250m \u001b[39m\u001b[38;5;28;01mimport\u001b[39;00m proportions_ztest\n",
      "\u001b[31mModuleNotFoundError\u001b[39m: No module named 'pandas'"
     ]
    }
   ],
   "source": [
    "# -*- coding: utf-8 -*-\n",
    "# Install missing packages\n",
    "\n",
    "import numpy as np\n",
    "import pandas as pd\n",
    "from scipy import stats\n",
    "from statsmodels.stats.proportion import proportions_ztest\n",
    "from statsmodels.stats.proportion import binom_test\n",
    "from statsmodels.stats.proportion import proportions_ztest\n",
    "\n",
    "pd.options.display.float_format = \"{:,.6f}\".format\n",
    "pd.options.display.float_format = \"{:.4f}\".format"
   ]
  },
  {
   "cell_type": "code",
   "execution_count": null,
   "metadata": {},
   "outputs": [
    {
     "data": {
      "text/html": [
       "<div>\n",
       "<style scoped>\n",
       "    .dataframe tbody tr th:only-of-type {\n",
       "        vertical-align: middle;\n",
       "    }\n",
       "\n",
       "    .dataframe tbody tr th {\n",
       "        vertical-align: top;\n",
       "    }\n",
       "\n",
       "    .dataframe thead th {\n",
       "        text-align: right;\n",
       "    }\n",
       "</style>\n",
       "<table border=\"1\" class=\"dataframe\">\n",
       "  <thead>\n",
       "    <tr style=\"text-align: right;\">\n",
       "      <th></th>\n",
       "      <th>Metric Name</th>\n",
       "      <th>Estimator</th>\n",
       "      <th>dmin</th>\n",
       "    </tr>\n",
       "  </thead>\n",
       "  <tbody>\n",
       "    <tr>\n",
       "      <th>C</th>\n",
       "      <td>Cookies</td>\n",
       "      <td>40000.0000</td>\n",
       "      <td>3000.0000</td>\n",
       "    </tr>\n",
       "    <tr>\n",
       "      <th>CL</th>\n",
       "      <td>Clicks</td>\n",
       "      <td>3200.0000</td>\n",
       "      <td>240.0000</td>\n",
       "    </tr>\n",
       "    <tr>\n",
       "      <th>ID</th>\n",
       "      <td>User-ids</td>\n",
       "      <td>660.0000</td>\n",
       "      <td>-50.0000</td>\n",
       "    </tr>\n",
       "    <tr>\n",
       "      <th>CTP</th>\n",
       "      <td>Click-through-probability</td>\n",
       "      <td>0.0800</td>\n",
       "      <td>0.0100</td>\n",
       "    </tr>\n",
       "    <tr>\n",
       "      <th>CG</th>\n",
       "      <td>Gross conversion</td>\n",
       "      <td>0.2062</td>\n",
       "      <td>-0.0100</td>\n",
       "    </tr>\n",
       "    <tr>\n",
       "      <th>R</th>\n",
       "      <td>Retention</td>\n",
       "      <td>0.5300</td>\n",
       "      <td>0.0100</td>\n",
       "    </tr>\n",
       "    <tr>\n",
       "      <th>CN</th>\n",
       "      <td>Net conversion</td>\n",
       "      <td>0.1093</td>\n",
       "      <td>0.0075</td>\n",
       "    </tr>\n",
       "  </tbody>\n",
       "</table>\n",
       "</div>"
      ],
      "text/plain": [
       "                   Metric Name  Estimator      dmin\n",
       "C                      Cookies 40000.0000 3000.0000\n",
       "CL                      Clicks  3200.0000  240.0000\n",
       "ID                    User-ids   660.0000  -50.0000\n",
       "CTP  Click-through-probability     0.0800    0.0100\n",
       "CG            Gross conversion     0.2062   -0.0100\n",
       "R                    Retention     0.5300    0.0100\n",
       "CN              Net conversion     0.1093    0.0075"
      ]
     },
     "execution_count": 89,
     "metadata": {},
     "output_type": "execute_result"
    }
   ],
   "source": [
    "# Storing baseline data\n",
    "d = {\n",
    "    \"Metric Name\": [\n",
    "        \"Cookies\",\n",
    "        \"Clicks\",\n",
    "        \"User-ids\",\n",
    "        \"Click-through-probability\",\n",
    "        \"Gross conversion\",\n",
    "        \"Retention\",\n",
    "        \"Net conversion\",\n",
    "    ],\n",
    "    \"Estimator\": [40000, 3200, 660, 0.08, 0.20625, 0.53, 0.109313],\n",
    "    \"dmin\": [3000, 240, -50, 0.01, -0.01, 0.01, 0.0075],\n",
    "}\n",
    "md = pd.DataFrame(data=d, index=[\"C\", \"CL\", \"ID\", \"CTP\", \"CG\", \"R\", \"CN\"])\n",
    "md"
   ]
  },
  {
   "cell_type": "markdown",
   "metadata": {},
   "source": [
    "### 3-standard deviation rule"
   ]
  },
  {
   "cell_type": "markdown",
   "metadata": {},
   "source": [
    "The 3-Standard Deviation Rule, also known as the Empirical Rule (or 68-95-99.7 Rule), is a guideline in statistics that describes how data is distributed in a normal (bell-shaped) distribution. It states that:\n",
    "\n",
    "68% of the data falls within 1 standard deviation (μ±σ) of the mean.\n",
    "95% of the data falls within 2 standard deviations (μ±2σ) of the mean.\n",
    "99.7% of the data falls within 3 standard deviations (μ±3σ) of the mean."
   ]
  },
  {
   "cell_type": "code",
   "execution_count": null,
   "metadata": {},
   "outputs": [
    {
     "data": {
      "text/plain": [
       "Metric Name    Gross conversion\n",
       "Estimator                  3200\n",
       "dmin                    -0.0100\n",
       "p                        0.2062\n",
       "n                    40000.0000\n",
       "sd                       0.0020\n",
       "Name: CG, dtype: object"
      ]
     },
     "execution_count": 90,
     "metadata": {},
     "output_type": "execute_result"
    }
   ],
   "source": [
    "# first the standard deviation for the Gross Conversion and Net Conversion metrics needs to be calculated\n",
    "# Gross Conversion\n",
    "CG = md.loc[\"CG\"].copy()\n",
    "CG[\"Estimator\"] = 3200\n",
    "CG[\"dmin\"] = -0.01\n",
    "CG[\"p\"] = 0.206250\n",
    "# as alternative the probability is calculated as number of clicks divided by number of cookies\n",
    "CG[\"n\"] = md.loc[\"C\"][\"Estimator\"]\n",
    "CG[\"sd\"] = np.sqrt(CG[\"p\"] * (1 - CG[\"p\"]) / CG[\"n\"])\n",
    "CG"
   ]
  },
  {
   "cell_type": "code",
   "execution_count": null,
   "metadata": {},
   "outputs": [
    {
     "data": {
      "text/plain": [
       "Metric Name    Net conversion\n",
       "Estimator                 660\n",
       "dmin                   0.0075\n",
       "p                      0.1093\n",
       "n                  40000.0000\n",
       "sd                     0.0016\n",
       "Name: CN, dtype: object"
      ]
     },
     "execution_count": 91,
     "metadata": {},
     "output_type": "execute_result"
    }
   ],
   "source": [
    "CN = md.loc[\"CN\"].copy()\n",
    "CN[\"Estimator\"] = 660\n",
    "CN[\"dmin\"] = 0.0075\n",
    "CN[\"p\"] = 0.109313\n",
    "# as alternative the propability is calculated as number of clicks divided by number of cookies\n",
    "CN[\"n\"] = md.loc[\"C\"][\"Estimator\"]\n",
    "CN[\"sd\"] = np.sqrt(CN[\"p\"] * (1 - CN[\"p\"]) / CN[\"n\"])\n",
    "CN"
   ]
  },
  {
   "cell_type": "code",
   "execution_count": null,
   "metadata": {},
   "outputs": [
    {
     "data": {
      "text/plain": [
       "Metric Name    Net conversion\n",
       "Estimator                 660\n",
       "dmin                   0.0075\n",
       "p                      0.1093\n",
       "n                   6650.0000\n",
       "sd                     0.0016\n",
       "Name: CN, dtype: object"
      ]
     },
     "execution_count": 92,
     "metadata": {},
     "output_type": "execute_result"
    }
   ],
   "source": [
    "# The sample size for the experiment is calculated using the formula:\n",
    "# n = (Z^2 * p * (1 - p)) / d^2\n",
    "# where:\n",
    "# n = sample size\n",
    "# Z = Z-score\n",
    "# p = baseline conversion rate\n",
    "# d = minimum detectable effect\n",
    "\n",
    "# Gross Conversion\n",
    "CG[\"n\"] = (1.96**2 * CG[\"p\"] * (1 - CG[\"p\"])) / CG[\"dmin\"] ** 2\n",
    "CG[\"n\"] = np.ceil(CG[\"n\"])\n",
    "CG\n",
    "\n",
    "# Net Conversion\n",
    "CN[\"n\"] = (1.96**2 * CN[\"p\"] * (1 - CN[\"p\"])) / CN[\"dmin\"] ** 2\n",
    "CN[\"n\"] = np.ceil(CN[\"n\"])\n",
    "CN"
   ]
  },
  {
   "cell_type": "code",
   "execution_count": null,
   "metadata": {},
   "outputs": [
    {
     "data": {
      "text/plain": [
       "Metric Name    Gross conversion\n",
       "Estimator                  3200\n",
       "dmin                    -0.0100\n",
       "p                        0.2062\n",
       "n                     6290.0000\n",
       "sd                       0.0020\n",
       "Name: CG, dtype: object"
      ]
     },
     "execution_count": 93,
     "metadata": {},
     "output_type": "execute_result"
    }
   ],
   "source": [
    "CG"
   ]
  },
  {
   "cell_type": "markdown",
   "metadata": {},
   "source": [
    "### Scaling"
   ]
  },
  {
   "cell_type": "markdown",
   "metadata": {},
   "source": [
    "Since the sample size from Audacity is 5000 cookies, we need to scale the data provided as related to 40000 cookies."
   ]
  },
  {
   "cell_type": "code",
   "execution_count": null,
   "metadata": {},
   "outputs": [
    {
     "data": {
      "text/html": [
       "<div>\n",
       "<style scoped>\n",
       "    .dataframe tbody tr th:only-of-type {\n",
       "        vertical-align: middle;\n",
       "    }\n",
       "\n",
       "    .dataframe tbody tr th {\n",
       "        vertical-align: top;\n",
       "    }\n",
       "\n",
       "    .dataframe thead th {\n",
       "        text-align: right;\n",
       "    }\n",
       "</style>\n",
       "<table border=\"1\" class=\"dataframe\">\n",
       "  <thead>\n",
       "    <tr style=\"text-align: right;\">\n",
       "      <th></th>\n",
       "      <th>Metric Name</th>\n",
       "      <th>Estimator</th>\n",
       "      <th>dmin</th>\n",
       "      <th>Scaled_Estimator</th>\n",
       "    </tr>\n",
       "  </thead>\n",
       "  <tbody>\n",
       "    <tr>\n",
       "      <th>C</th>\n",
       "      <td>Cookies</td>\n",
       "      <td>40000.0000</td>\n",
       "      <td>3000.0000</td>\n",
       "      <td>5000.0000</td>\n",
       "    </tr>\n",
       "    <tr>\n",
       "      <th>CL</th>\n",
       "      <td>Clicks</td>\n",
       "      <td>3200.0000</td>\n",
       "      <td>240.0000</td>\n",
       "      <td>400.0000</td>\n",
       "    </tr>\n",
       "    <tr>\n",
       "      <th>ID</th>\n",
       "      <td>User-ids</td>\n",
       "      <td>660.0000</td>\n",
       "      <td>-50.0000</td>\n",
       "      <td>82.5000</td>\n",
       "    </tr>\n",
       "    <tr>\n",
       "      <th>CTP</th>\n",
       "      <td>Click-through-probability</td>\n",
       "      <td>0.0800</td>\n",
       "      <td>0.0100</td>\n",
       "      <td>NaN</td>\n",
       "    </tr>\n",
       "    <tr>\n",
       "      <th>CG</th>\n",
       "      <td>Gross conversion</td>\n",
       "      <td>0.2062</td>\n",
       "      <td>-0.0100</td>\n",
       "      <td>NaN</td>\n",
       "    </tr>\n",
       "    <tr>\n",
       "      <th>R</th>\n",
       "      <td>Retention</td>\n",
       "      <td>0.5300</td>\n",
       "      <td>0.0100</td>\n",
       "      <td>NaN</td>\n",
       "    </tr>\n",
       "    <tr>\n",
       "      <th>CN</th>\n",
       "      <td>Net conversion</td>\n",
       "      <td>0.1093</td>\n",
       "      <td>0.0075</td>\n",
       "      <td>NaN</td>\n",
       "    </tr>\n",
       "  </tbody>\n",
       "</table>\n",
       "</div>"
      ],
      "text/plain": [
       "                   Metric Name  Estimator      dmin  Scaled_Estimator\n",
       "C                      Cookies 40000.0000 3000.0000         5000.0000\n",
       "CL                      Clicks  3200.0000  240.0000          400.0000\n",
       "ID                    User-ids   660.0000  -50.0000           82.5000\n",
       "CTP  Click-through-probability     0.0800    0.0100               NaN\n",
       "CG            Gross conversion     0.2062   -0.0100               NaN\n",
       "R                    Retention     0.5300    0.0100               NaN\n",
       "CN              Net conversion     0.1093    0.0075               NaN"
      ]
     },
     "execution_count": 94,
     "metadata": {},
     "output_type": "execute_result"
    }
   ],
   "source": [
    "md\n",
    "\n",
    "scaling_factor = 5000 / md.loc[\"C\"][\"Estimator\"]\n",
    "\n",
    "for i in [\"C\", \"CL\", \"ID\"]:\n",
    "    md.at[i, \"Scaled_Estimator\"] = md.loc[i][\"Estimator\"] * scaling_factor\n",
    "\n",
    "md"
   ]
  },
  {
   "cell_type": "markdown",
   "metadata": {},
   "source": [
    "### Computing Standard Error"
   ]
  },
  {
   "cell_type": "markdown",
   "metadata": {},
   "source": [
    "The general formula is applied to calculate the standard error over the population.\n",
    "\n",
    "$$SE = \\sqrt{\\frac{p*(1-p)}{n}}$$\n",
    "\n",
    "Since we are not yet considering two different populations sample, there is no point to calculate the Pooled Standard Error.\n",
    "\n",
    "Standard error will be solely calculated for Gross Convertion, Retention and Net Convertion, as considered as evaluation metrics. Click-trough probability is calculated as the ratio between number of Clicks and Cookies, which are both invariant metrics, hence their ratio will be invariant as well\n",
    "\n"
   ]
  },
  {
   "cell_type": "code",
   "execution_count": null,
   "metadata": {},
   "outputs": [
    {
     "data": {
      "text/html": [
       "<div>\n",
       "<style scoped>\n",
       "    .dataframe tbody tr th:only-of-type {\n",
       "        vertical-align: middle;\n",
       "    }\n",
       "\n",
       "    .dataframe tbody tr th {\n",
       "        vertical-align: top;\n",
       "    }\n",
       "\n",
       "    .dataframe thead th {\n",
       "        text-align: right;\n",
       "    }\n",
       "</style>\n",
       "<table border=\"1\" class=\"dataframe\">\n",
       "  <thead>\n",
       "    <tr style=\"text-align: right;\">\n",
       "      <th></th>\n",
       "      <th>Metric Name</th>\n",
       "      <th>Estimator</th>\n",
       "      <th>dmin</th>\n",
       "      <th>Scaled_Estimator</th>\n",
       "      <th>Standard Error</th>\n",
       "    </tr>\n",
       "  </thead>\n",
       "  <tbody>\n",
       "    <tr>\n",
       "      <th>C</th>\n",
       "      <td>Cookies</td>\n",
       "      <td>40000.0000</td>\n",
       "      <td>3000.0000</td>\n",
       "      <td>5000.0000</td>\n",
       "      <td>NaN</td>\n",
       "    </tr>\n",
       "    <tr>\n",
       "      <th>CL</th>\n",
       "      <td>Clicks</td>\n",
       "      <td>3200.0000</td>\n",
       "      <td>240.0000</td>\n",
       "      <td>400.0000</td>\n",
       "      <td>NaN</td>\n",
       "    </tr>\n",
       "    <tr>\n",
       "      <th>ID</th>\n",
       "      <td>User-ids</td>\n",
       "      <td>660.0000</td>\n",
       "      <td>-50.0000</td>\n",
       "      <td>82.5000</td>\n",
       "      <td>NaN</td>\n",
       "    </tr>\n",
       "    <tr>\n",
       "      <th>CTP</th>\n",
       "      <td>Click-through-probability</td>\n",
       "      <td>0.0800</td>\n",
       "      <td>0.0100</td>\n",
       "      <td>NaN</td>\n",
       "      <td>NaN</td>\n",
       "    </tr>\n",
       "    <tr>\n",
       "      <th>CG</th>\n",
       "      <td>Gross conversion</td>\n",
       "      <td>0.2062</td>\n",
       "      <td>-0.0100</td>\n",
       "      <td>NaN</td>\n",
       "      <td>0.0057</td>\n",
       "    </tr>\n",
       "    <tr>\n",
       "      <th>R</th>\n",
       "      <td>Retention</td>\n",
       "      <td>0.5300</td>\n",
       "      <td>0.0100</td>\n",
       "      <td>NaN</td>\n",
       "      <td>0.0071</td>\n",
       "    </tr>\n",
       "    <tr>\n",
       "      <th>CN</th>\n",
       "      <td>Net conversion</td>\n",
       "      <td>0.1093</td>\n",
       "      <td>0.0075</td>\n",
       "      <td>NaN</td>\n",
       "      <td>0.0044</td>\n",
       "    </tr>\n",
       "  </tbody>\n",
       "</table>\n",
       "</div>"
      ],
      "text/plain": [
       "                   Metric Name  Estimator      dmin  Scaled_Estimator  \\\n",
       "C                      Cookies 40000.0000 3000.0000         5000.0000   \n",
       "CL                      Clicks  3200.0000  240.0000          400.0000   \n",
       "ID                    User-ids   660.0000  -50.0000           82.5000   \n",
       "CTP  Click-through-probability     0.0800    0.0100               NaN   \n",
       "CG            Gross conversion     0.2062   -0.0100               NaN   \n",
       "R                    Retention     0.5300    0.0100               NaN   \n",
       "CN              Net conversion     0.1093    0.0075               NaN   \n",
       "\n",
       "     Standard Error  \n",
       "C               NaN  \n",
       "CL              NaN  \n",
       "ID              NaN  \n",
       "CTP             NaN  \n",
       "CG           0.0057  \n",
       "R            0.0071  \n",
       "CN           0.0044  "
      ]
     },
     "execution_count": 95,
     "metadata": {},
     "output_type": "execute_result"
    }
   ],
   "source": [
    "for i in [\"CG\", \"CN\"]:\n",
    "\n",
    "    md.at[i, \"Standard Error\"] = np.sqrt(\n",
    "        md.loc[i][\"Estimator\"]\n",
    "        * (1 - md.loc[i][\"Estimator\"])\n",
    "        / md.loc[\"C\"][\"Scaled_Estimator\"]\n",
    "    )\n",
    "\n",
    "md.at[\"R\", \"Standard Error\"] = np.sqrt(\n",
    "    md.loc[\"R\"][\"Estimator\"]\n",
    "    * (1 - md.loc[\"R\"][\"Estimator\"])\n",
    "    / md.loc[\"C\"][\"Scaled_Estimator\"]\n",
    ")\n",
    "\n",
    "md"
   ]
  },
  {
   "cell_type": "markdown",
   "metadata": {},
   "source": [
    "### Defining Alpha and Beta"
   ]
  },
  {
   "cell_type": "markdown",
   "metadata": {},
   "source": [
    "Alpha (α) and Beta (β) are related to statistical errors that can occur when making conclusions about your test results. \n",
    "\n",
    "Alpha represents the significance level of the test, that is the probability of rejecting the null hypothesis when it is actually true. This is usually set at 5%.\n",
    "\n",
    "Beta represents the probability of failing to reject the null hypothesis when the alternative hypothesis is actually true. This is usually set at 20%."
   ]
  },
  {
   "cell_type": "code",
   "execution_count": null,
   "metadata": {},
   "outputs": [],
   "source": [
    "alpha = 0.05\n",
    "\n",
    "beta = 0.2"
   ]
  },
  {
   "cell_type": "markdown",
   "metadata": {},
   "source": [
    "### Sample Size Calculation"
   ]
  },
  {
   "cell_type": "markdown",
   "metadata": {},
   "source": [
    "We can make an approximation due to the big size of the sample, by using the following formula:\n",
    "$$Sample Size = \\frac{2 \\cdot (Z_{\\alpha/2} + Z_{\\beta})^2 \\cdot p_1 \\cdot (1 - p_1)}{d_{\\min}^2}$$\n"
   ]
  },
  {
   "cell_type": "code",
   "execution_count": null,
   "metadata": {},
   "outputs": [],
   "source": [
    "# Calculate the z-score for the alpha value\n",
    "z_alpha = stats.norm.ppf(1 - alpha / 2)\n",
    "\n",
    "# Calculate the z-score for the beta value\n",
    "z_beta = stats.norm.ppf(1 - beta)"
   ]
  },
  {
   "cell_type": "code",
   "execution_count": null,
   "metadata": {},
   "outputs": [],
   "source": [
    "# Create a function for the sample size calculation\n",
    "def sample_size(p, d_min):\n",
    "    return 2 * (z_alpha + z_beta) ** 2 * p * (1 - p) / d_min**2"
   ]
  },
  {
   "cell_type": "code",
   "execution_count": null,
   "metadata": {},
   "outputs": [],
   "source": [
    "# Calculate the sample size by adding the result in the table\n",
    "\n",
    "md.insert(3, \"Sample Size\", np.nan)"
   ]
  },
  {
   "cell_type": "code",
   "execution_count": null,
   "metadata": {},
   "outputs": [
    {
     "data": {
      "text/html": [
       "<div>\n",
       "<style scoped>\n",
       "    .dataframe tbody tr th:only-of-type {\n",
       "        vertical-align: middle;\n",
       "    }\n",
       "\n",
       "    .dataframe tbody tr th {\n",
       "        vertical-align: top;\n",
       "    }\n",
       "\n",
       "    .dataframe thead th {\n",
       "        text-align: right;\n",
       "    }\n",
       "</style>\n",
       "<table border=\"1\" class=\"dataframe\">\n",
       "  <thead>\n",
       "    <tr style=\"text-align: right;\">\n",
       "      <th></th>\n",
       "      <th>Metric Name</th>\n",
       "      <th>Estimator</th>\n",
       "      <th>dmin</th>\n",
       "      <th>Sample Size</th>\n",
       "      <th>Scaled_Estimator</th>\n",
       "      <th>Standard Error</th>\n",
       "    </tr>\n",
       "  </thead>\n",
       "  <tbody>\n",
       "    <tr>\n",
       "      <th>C</th>\n",
       "      <td>Cookies</td>\n",
       "      <td>40000.0000</td>\n",
       "      <td>3000.0000</td>\n",
       "      <td>NaN</td>\n",
       "      <td>5000.0000</td>\n",
       "      <td>NaN</td>\n",
       "    </tr>\n",
       "    <tr>\n",
       "      <th>CL</th>\n",
       "      <td>Clicks</td>\n",
       "      <td>3200.0000</td>\n",
       "      <td>240.0000</td>\n",
       "      <td>NaN</td>\n",
       "      <td>400.0000</td>\n",
       "      <td>NaN</td>\n",
       "    </tr>\n",
       "    <tr>\n",
       "      <th>ID</th>\n",
       "      <td>User-ids</td>\n",
       "      <td>660.0000</td>\n",
       "      <td>-50.0000</td>\n",
       "      <td>NaN</td>\n",
       "      <td>82.5000</td>\n",
       "      <td>NaN</td>\n",
       "    </tr>\n",
       "    <tr>\n",
       "      <th>CTP</th>\n",
       "      <td>Click-through-probability</td>\n",
       "      <td>0.0800</td>\n",
       "      <td>0.0100</td>\n",
       "      <td>NaN</td>\n",
       "      <td>NaN</td>\n",
       "      <td>NaN</td>\n",
       "    </tr>\n",
       "    <tr>\n",
       "      <th>CG</th>\n",
       "      <td>Gross conversion</td>\n",
       "      <td>0.2062</td>\n",
       "      <td>-0.0100</td>\n",
       "      <td>642474.0000</td>\n",
       "      <td>NaN</td>\n",
       "      <td>0.0057</td>\n",
       "    </tr>\n",
       "    <tr>\n",
       "      <th>R</th>\n",
       "      <td>Retention</td>\n",
       "      <td>0.5300</td>\n",
       "      <td>0.0100</td>\n",
       "      <td>4739772.0000</td>\n",
       "      <td>NaN</td>\n",
       "      <td>0.0071</td>\n",
       "    </tr>\n",
       "    <tr>\n",
       "      <th>CN</th>\n",
       "      <td>Net conversion</td>\n",
       "      <td>0.1093</td>\n",
       "      <td>0.0075</td>\n",
       "      <td>679285.0000</td>\n",
       "      <td>NaN</td>\n",
       "      <td>0.0044</td>\n",
       "    </tr>\n",
       "  </tbody>\n",
       "</table>\n",
       "</div>"
      ],
      "text/plain": [
       "                   Metric Name  Estimator      dmin  Sample Size  \\\n",
       "C                      Cookies 40000.0000 3000.0000          NaN   \n",
       "CL                      Clicks  3200.0000  240.0000          NaN   \n",
       "ID                    User-ids   660.0000  -50.0000          NaN   \n",
       "CTP  Click-through-probability     0.0800    0.0100          NaN   \n",
       "CG            Gross conversion     0.2062   -0.0100  642474.0000   \n",
       "R                    Retention     0.5300    0.0100 4739772.0000   \n",
       "CN              Net conversion     0.1093    0.0075  679285.0000   \n",
       "\n",
       "     Scaled_Estimator  Standard Error  \n",
       "C           5000.0000             NaN  \n",
       "CL           400.0000             NaN  \n",
       "ID            82.5000             NaN  \n",
       "CTP               NaN             NaN  \n",
       "CG                NaN          0.0057  \n",
       "R                 NaN          0.0071  \n",
       "CN                NaN          0.0044  "
      ]
     },
     "execution_count": 100,
     "metadata": {},
     "output_type": "execute_result"
    }
   ],
   "source": [
    "for i in [\"CG\", \"CN\"]:\n",
    "    md.at[i, \"Sample Size\"] = round(\n",
    "        (\n",
    "            sample_size(md.loc[i][\"Estimator\"], md.loc[i][\"dmin\"])\n",
    "            / md.loc[\"CTP\"][\"Estimator\"]\n",
    "        )\n",
    "        * 2,\n",
    "        0,\n",
    "    )\n",
    "md.at[\"R\", \"Sample Size\"] = round(\n",
    "    (\n",
    "        (\n",
    "            sample_size(md.loc[\"R\"][\"Estimator\"], md.loc[\"R\"][\"dmin\"])\n",
    "            / md.loc[\"CTP\"][\"Estimator\"]\n",
    "        )\n",
    "        / md.loc[\"CG\"][\"Estimator\"]\n",
    "    )\n",
    "    * 2,\n",
    "    0,\n",
    ")\n",
    "md"
   ]
  },
  {
   "cell_type": "markdown",
   "metadata": {},
   "source": [
    "### Experiment duration"
   ]
  },
  {
   "cell_type": "markdown",
   "metadata": {},
   "source": [
    "It is assumed that 100% of the traffic is diverted on the experiment, hence 50% of the users will be scattered to the control group.\n",
    "\n",
    "By the initial hypothesis, we are expecting around 40,000 page views per day.\n",
    "\n",
    "The duration, in number of days will be calculated as follows:\n",
    "$$Duration (days) = \\frac{N_{\\text{tot}}}{\\text{Daily Visitors} \\times \\text{Experiment exposure}}$$\n"
   ]
  },
  {
   "cell_type": "code",
   "execution_count": null,
   "metadata": {},
   "outputs": [],
   "source": [
    "md.insert(4, \"Experiment Duration (Days)\", np.nan)"
   ]
  },
  {
   "cell_type": "code",
   "execution_count": null,
   "metadata": {},
   "outputs": [
    {
     "data": {
      "text/html": [
       "<div>\n",
       "<style scoped>\n",
       "    .dataframe tbody tr th:only-of-type {\n",
       "        vertical-align: middle;\n",
       "    }\n",
       "\n",
       "    .dataframe tbody tr th {\n",
       "        vertical-align: top;\n",
       "    }\n",
       "\n",
       "    .dataframe thead th {\n",
       "        text-align: right;\n",
       "    }\n",
       "</style>\n",
       "<table border=\"1\" class=\"dataframe\">\n",
       "  <thead>\n",
       "    <tr style=\"text-align: right;\">\n",
       "      <th></th>\n",
       "      <th>Metric Name</th>\n",
       "      <th>Estimator</th>\n",
       "      <th>dmin</th>\n",
       "      <th>Sample Size</th>\n",
       "      <th>Experiment Duration (Days)</th>\n",
       "      <th>Scaled_Estimator</th>\n",
       "      <th>Standard Error</th>\n",
       "    </tr>\n",
       "  </thead>\n",
       "  <tbody>\n",
       "    <tr>\n",
       "      <th>C</th>\n",
       "      <td>Cookies</td>\n",
       "      <td>40000.0000</td>\n",
       "      <td>3000.0000</td>\n",
       "      <td>NaN</td>\n",
       "      <td>NaN</td>\n",
       "      <td>5000.0000</td>\n",
       "      <td>NaN</td>\n",
       "    </tr>\n",
       "    <tr>\n",
       "      <th>CL</th>\n",
       "      <td>Clicks</td>\n",
       "      <td>3200.0000</td>\n",
       "      <td>240.0000</td>\n",
       "      <td>NaN</td>\n",
       "      <td>NaN</td>\n",
       "      <td>400.0000</td>\n",
       "      <td>NaN</td>\n",
       "    </tr>\n",
       "    <tr>\n",
       "      <th>ID</th>\n",
       "      <td>User-ids</td>\n",
       "      <td>660.0000</td>\n",
       "      <td>-50.0000</td>\n",
       "      <td>NaN</td>\n",
       "      <td>NaN</td>\n",
       "      <td>82.5000</td>\n",
       "      <td>NaN</td>\n",
       "    </tr>\n",
       "    <tr>\n",
       "      <th>CTP</th>\n",
       "      <td>Click-through-probability</td>\n",
       "      <td>0.0800</td>\n",
       "      <td>0.0100</td>\n",
       "      <td>NaN</td>\n",
       "      <td>NaN</td>\n",
       "      <td>NaN</td>\n",
       "      <td>NaN</td>\n",
       "    </tr>\n",
       "    <tr>\n",
       "      <th>CG</th>\n",
       "      <td>Gross conversion</td>\n",
       "      <td>0.2062</td>\n",
       "      <td>-0.0100</td>\n",
       "      <td>642474.0000</td>\n",
       "      <td>16.0618</td>\n",
       "      <td>NaN</td>\n",
       "      <td>0.0057</td>\n",
       "    </tr>\n",
       "    <tr>\n",
       "      <th>R</th>\n",
       "      <td>Retention</td>\n",
       "      <td>0.5300</td>\n",
       "      <td>0.0100</td>\n",
       "      <td>4739772.0000</td>\n",
       "      <td>118.4943</td>\n",
       "      <td>NaN</td>\n",
       "      <td>0.0071</td>\n",
       "    </tr>\n",
       "    <tr>\n",
       "      <th>CN</th>\n",
       "      <td>Net conversion</td>\n",
       "      <td>0.1093</td>\n",
       "      <td>0.0075</td>\n",
       "      <td>679285.0000</td>\n",
       "      <td>16.9821</td>\n",
       "      <td>NaN</td>\n",
       "      <td>0.0044</td>\n",
       "    </tr>\n",
       "  </tbody>\n",
       "</table>\n",
       "</div>"
      ],
      "text/plain": [
       "                   Metric Name  Estimator      dmin  Sample Size  \\\n",
       "C                      Cookies 40000.0000 3000.0000          NaN   \n",
       "CL                      Clicks  3200.0000  240.0000          NaN   \n",
       "ID                    User-ids   660.0000  -50.0000          NaN   \n",
       "CTP  Click-through-probability     0.0800    0.0100          NaN   \n",
       "CG            Gross conversion     0.2062   -0.0100  642474.0000   \n",
       "R                    Retention     0.5300    0.0100 4739772.0000   \n",
       "CN              Net conversion     0.1093    0.0075  679285.0000   \n",
       "\n",
       "     Experiment Duration (Days)  Scaled_Estimator  Standard Error  \n",
       "C                           NaN         5000.0000             NaN  \n",
       "CL                          NaN          400.0000             NaN  \n",
       "ID                          NaN           82.5000             NaN  \n",
       "CTP                         NaN               NaN             NaN  \n",
       "CG                      16.0618               NaN          0.0057  \n",
       "R                      118.4943               NaN          0.0071  \n",
       "CN                      16.9821               NaN          0.0044  "
      ]
     },
     "execution_count": 102,
     "metadata": {},
     "output_type": "execute_result"
    }
   ],
   "source": [
    "for i in [\"CG\", \"CN\", \"R\"]:\n",
    "    md.at[i, \"Experiment Duration (Days)\"] = (\n",
    "        md.loc[i, \"Sample Size\"] / md.loc[\"C\", \"Estimator\"] * 1\n",
    "    )\n",
    "md"
   ]
  },
  {
   "cell_type": "markdown",
   "metadata": {},
   "source": [
    "It is noticed that to collect significant results regarding the Gross and Net conversion, we need to run the experiment respectively for around 16 days, that would result in having an overall 32 days testing period, plus the 14 days of free trial.\n",
    "\n",
    "This may seem appropriate for the experiment, meanwhile the retention metrics would take around 118 days for testing, which is rather problematic from a business perspective, as no other experiment are supposed to be taken at the same time, making this scenario risky."
   ]
  },
  {
   "cell_type": "markdown",
   "metadata": {},
   "source": [
    "## Analysis"
   ]
  },
  {
   "cell_type": "code",
   "execution_count": null,
   "metadata": {},
   "outputs": [],
   "source": [
    "# Load the dataset for the control and experiment groups\n",
    "control = pd.read_csv(\n",
    "    r\"C:\\Users\\pietr\\Desktop\\DA_Touring\\AB Testing\\Final Project Results - Control.csv\"\n",
    ")\n",
    "experiment = pd.read_csv(\n",
    "    r\"C:\\Users\\pietr\\Desktop\\DA_Touring\\AB Testing\\Final Project Results - Experiment.csv\"\n",
    ")"
   ]
  },
  {
   "cell_type": "code",
   "execution_count": null,
   "metadata": {},
   "outputs": [
    {
     "data": {
      "text/html": [
       "<div>\n",
       "<style scoped>\n",
       "    .dataframe tbody tr th:only-of-type {\n",
       "        vertical-align: middle;\n",
       "    }\n",
       "\n",
       "    .dataframe tbody tr th {\n",
       "        vertical-align: top;\n",
       "    }\n",
       "\n",
       "    .dataframe thead th {\n",
       "        text-align: right;\n",
       "    }\n",
       "</style>\n",
       "<table border=\"1\" class=\"dataframe\">\n",
       "  <thead>\n",
       "    <tr style=\"text-align: right;\">\n",
       "      <th></th>\n",
       "      <th>Date</th>\n",
       "      <th>Pageviews</th>\n",
       "      <th>Clicks</th>\n",
       "      <th>Enrollments</th>\n",
       "      <th>Payments</th>\n",
       "    </tr>\n",
       "  </thead>\n",
       "  <tbody>\n",
       "    <tr>\n",
       "      <th>0</th>\n",
       "      <td>Sat, Oct 11</td>\n",
       "      <td>7723</td>\n",
       "      <td>687</td>\n",
       "      <td>134.0000</td>\n",
       "      <td>70.0000</td>\n",
       "    </tr>\n",
       "    <tr>\n",
       "      <th>1</th>\n",
       "      <td>Sun, Oct 12</td>\n",
       "      <td>9102</td>\n",
       "      <td>779</td>\n",
       "      <td>147.0000</td>\n",
       "      <td>70.0000</td>\n",
       "    </tr>\n",
       "    <tr>\n",
       "      <th>2</th>\n",
       "      <td>Mon, Oct 13</td>\n",
       "      <td>10511</td>\n",
       "      <td>909</td>\n",
       "      <td>167.0000</td>\n",
       "      <td>95.0000</td>\n",
       "    </tr>\n",
       "    <tr>\n",
       "      <th>3</th>\n",
       "      <td>Tue, Oct 14</td>\n",
       "      <td>9871</td>\n",
       "      <td>836</td>\n",
       "      <td>156.0000</td>\n",
       "      <td>105.0000</td>\n",
       "    </tr>\n",
       "    <tr>\n",
       "      <th>4</th>\n",
       "      <td>Wed, Oct 15</td>\n",
       "      <td>10014</td>\n",
       "      <td>837</td>\n",
       "      <td>163.0000</td>\n",
       "      <td>64.0000</td>\n",
       "    </tr>\n",
       "  </tbody>\n",
       "</table>\n",
       "</div>"
      ],
      "text/plain": [
       "          Date  Pageviews  Clicks  Enrollments  Payments\n",
       "0  Sat, Oct 11       7723     687     134.0000   70.0000\n",
       "1  Sun, Oct 12       9102     779     147.0000   70.0000\n",
       "2  Mon, Oct 13      10511     909     167.0000   95.0000\n",
       "3  Tue, Oct 14       9871     836     156.0000  105.0000\n",
       "4  Wed, Oct 15      10014     837     163.0000   64.0000"
      ]
     },
     "execution_count": 104,
     "metadata": {},
     "output_type": "execute_result"
    }
   ],
   "source": [
    "# check if control data were loaded correctly\n",
    "control.head()"
   ]
  },
  {
   "cell_type": "code",
   "execution_count": null,
   "metadata": {},
   "outputs": [
    {
     "data": {
      "text/html": [
       "<div>\n",
       "<style scoped>\n",
       "    .dataframe tbody tr th:only-of-type {\n",
       "        vertical-align: middle;\n",
       "    }\n",
       "\n",
       "    .dataframe tbody tr th {\n",
       "        vertical-align: top;\n",
       "    }\n",
       "\n",
       "    .dataframe thead th {\n",
       "        text-align: right;\n",
       "    }\n",
       "</style>\n",
       "<table border=\"1\" class=\"dataframe\">\n",
       "  <thead>\n",
       "    <tr style=\"text-align: right;\">\n",
       "      <th></th>\n",
       "      <th>Date</th>\n",
       "      <th>Pageviews</th>\n",
       "      <th>Clicks</th>\n",
       "      <th>Enrollments</th>\n",
       "      <th>Payments</th>\n",
       "    </tr>\n",
       "  </thead>\n",
       "  <tbody>\n",
       "    <tr>\n",
       "      <th>0</th>\n",
       "      <td>Sat, Oct 11</td>\n",
       "      <td>7716</td>\n",
       "      <td>686</td>\n",
       "      <td>105.0000</td>\n",
       "      <td>34.0000</td>\n",
       "    </tr>\n",
       "    <tr>\n",
       "      <th>1</th>\n",
       "      <td>Sun, Oct 12</td>\n",
       "      <td>9288</td>\n",
       "      <td>785</td>\n",
       "      <td>116.0000</td>\n",
       "      <td>91.0000</td>\n",
       "    </tr>\n",
       "    <tr>\n",
       "      <th>2</th>\n",
       "      <td>Mon, Oct 13</td>\n",
       "      <td>10480</td>\n",
       "      <td>884</td>\n",
       "      <td>145.0000</td>\n",
       "      <td>79.0000</td>\n",
       "    </tr>\n",
       "    <tr>\n",
       "      <th>3</th>\n",
       "      <td>Tue, Oct 14</td>\n",
       "      <td>9867</td>\n",
       "      <td>827</td>\n",
       "      <td>138.0000</td>\n",
       "      <td>92.0000</td>\n",
       "    </tr>\n",
       "    <tr>\n",
       "      <th>4</th>\n",
       "      <td>Wed, Oct 15</td>\n",
       "      <td>9793</td>\n",
       "      <td>832</td>\n",
       "      <td>140.0000</td>\n",
       "      <td>94.0000</td>\n",
       "    </tr>\n",
       "  </tbody>\n",
       "</table>\n",
       "</div>"
      ],
      "text/plain": [
       "          Date  Pageviews  Clicks  Enrollments  Payments\n",
       "0  Sat, Oct 11       7716     686     105.0000   34.0000\n",
       "1  Sun, Oct 12       9288     785     116.0000   91.0000\n",
       "2  Mon, Oct 13      10480     884     145.0000   79.0000\n",
       "3  Tue, Oct 14       9867     827     138.0000   92.0000\n",
       "4  Wed, Oct 15       9793     832     140.0000   94.0000"
      ]
     },
     "execution_count": 105,
     "metadata": {},
     "output_type": "execute_result"
    }
   ],
   "source": [
    "# Check if experiment data were loaded correctly\n",
    "experiment.head()"
   ]
  },
  {
   "cell_type": "markdown",
   "metadata": {},
   "source": [
    "#### Invariant metrics sanity check"
   ]
  },
  {
   "cell_type": "markdown",
   "metadata": {},
   "source": [
    "Defining an invariant metric in an A/B test involves selecting a metric that remains unchanged between the treatment and control groups. This ensures the experiment was properly randomized. By running a sanity check, we ensure that there is no bias related to these invariant metrics.\n",
    "\n",
    "To do this we first compute confidence interval around the binominal \n",
    "\n",
    "$$CI = \\hat{p} \\pm Z \\cdot \\sqrt{\\frac{\\hat{p}(1 - \\hat{p})}{n}}$$\n",
    "\n"
   ]
  },
  {
   "cell_type": "code",
   "execution_count": null,
   "metadata": {},
   "outputs": [
    {
     "data": {
      "text/html": [
       "<div>\n",
       "<style scoped>\n",
       "    .dataframe tbody tr th:only-of-type {\n",
       "        vertical-align: middle;\n",
       "    }\n",
       "\n",
       "    .dataframe tbody tr th {\n",
       "        vertical-align: top;\n",
       "    }\n",
       "\n",
       "    .dataframe thead th {\n",
       "        text-align: right;\n",
       "    }\n",
       "</style>\n",
       "<table border=\"1\" class=\"dataframe\">\n",
       "  <thead>\n",
       "    <tr style=\"text-align: right;\">\n",
       "      <th></th>\n",
       "      <th>Left Interval</th>\n",
       "      <th>Right Interval</th>\n",
       "      <th>Observed Value</th>\n",
       "      <th>Sanity Check Result</th>\n",
       "    </tr>\n",
       "  </thead>\n",
       "  <tbody>\n",
       "    <tr>\n",
       "      <th>Cookies</th>\n",
       "      <td>0.4988</td>\n",
       "      <td>0.5012</td>\n",
       "      <td>0.5006</td>\n",
       "      <td>Pass</td>\n",
       "    </tr>\n",
       "    <tr>\n",
       "      <th>Clicks</th>\n",
       "      <td>0.4959</td>\n",
       "      <td>0.5041</td>\n",
       "      <td>0.5005</td>\n",
       "      <td>Pass</td>\n",
       "    </tr>\n",
       "    <tr>\n",
       "      <th>Click-through-probability</th>\n",
       "      <td>NaN</td>\n",
       "      <td>NaN</td>\n",
       "      <td>NaN</td>\n",
       "      <td>NaN</td>\n",
       "    </tr>\n",
       "  </tbody>\n",
       "</table>\n",
       "</div>"
      ],
      "text/plain": [
       "                          Left Interval Right Interval Observed Value  \\\n",
       "Cookies                          0.4988         0.5012         0.5006   \n",
       "Clicks                           0.4959         0.5041         0.5005   \n",
       "Click-through-probability           NaN            NaN            NaN   \n",
       "\n",
       "                          Sanity Check Result  \n",
       "Cookies                                  Pass  \n",
       "Clicks                                   Pass  \n",
       "Click-through-probability                 NaN  "
      ]
     },
     "execution_count": 106,
     "metadata": {},
     "output_type": "execute_result"
    }
   ],
   "source": [
    "# Create a table for visualizing the confidence interval data\n",
    "sanity_check = pd.DataFrame(\n",
    "    columns=[\n",
    "        \"Left Interval\",\n",
    "        \"Right Interval\",\n",
    "        \"Observed Value\",\n",
    "        \"Sanity Check Result\",\n",
    "    ],\n",
    "    index=[\"Cookies\", \"Clicks\", \"Click-through-probability\"],\n",
    ")\n",
    "\n",
    "# Pipeline conversion rate\n",
    "p = 0.5\n",
    "# Alpha value\n",
    "alpha = 0.05\n",
    "\n",
    "\n",
    "def standard_dev(p, n):\n",
    "    return np.sqrt(p * (1 - p) / n)\n",
    "\n",
    "\n",
    "for i, j in zip([\"Cookies\", \"Clicks\"], [\"Pageviews\", \"Clicks\"]):\n",
    "    # Calculate the sample size\n",
    "    n = control[j].sum() + experiment[j].sum()\n",
    "    # Set the control population size\n",
    "    n_control = control[j].sum()\n",
    "    # Calculate the left boundary of the confidence interval\n",
    "    sanity_check.at[i, \"Left Interval\"] = 0.5 - (standard_dev(p, n)) * stats.norm.ppf(\n",
    "        1 - alpha / 2\n",
    "    )\n",
    "    # Calculate the right boundary of the confidence interval\n",
    "    sanity_check.at[i, \"Right Interval\"] = 0.5 + (standard_dev(p, n)) * stats.norm.ppf(\n",
    "        1 - alpha / 2\n",
    "    )\n",
    "    # Calculate the observed value\n",
    "    sanity_check.at[i, \"Observed Value\"] = round((n_control / n), 4)\n",
    "    # Check if the observed value is within the confidence interval\n",
    "    if (\n",
    "        sanity_check.at[i, \"Left Interval\"]\n",
    "        <= sanity_check.at[i, \"Observed Value\"]\n",
    "        <= sanity_check.at[i, \"Right Interval\"]\n",
    "    ):\n",
    "        sanity_check.at[i, \"Sanity Check Result\"] = \"Pass\"\n",
    "    else:\n",
    "        sanity_check.at[i, \"Sanity Check Result\"] = \"Fail\"\n",
    "\n",
    "sanity_check"
   ]
  },
  {
   "cell_type": "markdown",
   "metadata": {},
   "source": [
    "Alternatively we can run a z-test and evaluate the null and alternative hypothesis"
   ]
  },
  {
   "cell_type": "code",
   "execution_count": null,
   "metadata": {},
   "outputs": [
    {
     "name": "stdout",
     "output_type": "stream",
     "text": [
      "Z-statistic: 1.0628516171419604\n",
      "P-value: 0.2878492472042282\n",
      "Sample proportion: 0.5006396668806133\n",
      "Fail to reject the null hypothesis\n"
     ]
    }
   ],
   "source": [
    "# Perform z-test\n",
    "# Calculate the number of observations\n",
    "n = control[\"Pageviews\"].sum() + experiment[\"Pageviews\"].sum()\n",
    "# Calculate the number of successes\n",
    "n_control = control[\"Pageviews\"].sum()\n",
    "# Calculate the sample proportion\n",
    "p = n_control / n\n",
    "p\n",
    "\n",
    "# Perform z-test\n",
    "z_stat, p_value = proportions_ztest(count=n_control, nobs=n, value=0.5)\n",
    "\n",
    "print(f\"Z-statistic: {z_stat}\")\n",
    "print(f\"P-value: {p_value}\")\n",
    "print(f\"Sample proportion: {p}\")\n",
    "\n",
    "if p_value < alpha:\n",
    "    print(\"Reject the null hypothesis\")\n",
    "else:\n",
    "    print(\"Fail to reject the null hypothesis\")"
   ]
  },
  {
   "cell_type": "markdown",
   "metadata": {},
   "source": [
    "Checking the validity of the click-trough probability means to verify if any difference occurs between the control and experiment group.\n",
    "\n",
    "Assuming that there is no difference between the two probabilities, we can either calculate the confidence interval around the theoretical difference (0) or perform a Z-test and calculate the p-value"
   ]
  },
  {
   "cell_type": "markdown",
   "metadata": {},
   "source": [
    "$$CI = [0 - Z_{\\alpha/2} \\cdot SE, 0 + Z_{\\alpha/2} \\cdot SE]$$"
   ]
  },
  {
   "cell_type": "markdown",
   "metadata": {},
   "source": [
    "$$SE_\\text{pooled} = \\sqrt{\\frac{S_\\text{n,exp}^2}{n_\\text{exp,pageviews}} + \\frac{S_\\text{n,control}^2}{n_\\text{control,pageviews}}}$$\n",
    "\n",
    "with $$S = \\sqrt{p*(1-p)}$$ and $$p = CTP = \\frac{n_\\text{clicks}}{n_\\text{pageviews}}$$\n"
   ]
  },
  {
   "cell_type": "code",
   "execution_count": null,
   "metadata": {},
   "outputs": [
    {
     "name": "stdout",
     "output_type": "stream",
     "text": [
      "Confidence interval: [-0.0013, 0.0013]\n",
      "Sanity check passed\n"
     ]
    }
   ],
   "source": [
    "# Calculate the probability for control and experiment groups\n",
    "p_control = control[\"Clicks\"].sum() / control[\"Pageviews\"].sum()\n",
    "p_experiment = experiment[\"Clicks\"].sum() / experiment[\"Pageviews\"].sum()\n",
    "\n",
    "# Calculate the standard deviation for the control and experiment groups\n",
    "sd_control = np.sqrt(p_control * (1 - p_control))\n",
    "sd_experiment = np.sqrt(p_experiment * (1 - p_experiment))\n",
    "\n",
    "# Calculate the pooled standard error\n",
    "se_pooled = np.sqrt(\n",
    "    sd_control**2 / control[\"Pageviews\"].sum()\n",
    "    + sd_experiment**2 / experiment[\"Pageviews\"].sum()\n",
    ")\n",
    "\n",
    "# Calculate the margin of error\n",
    "moe = se_pooled * stats.norm.ppf(1 - alpha / 2)\n",
    "\n",
    "# Calculate the confidence interval\n",
    "ci_low = 0 - moe\n",
    "ci_high = 0 + moe\n",
    "\n",
    "# Print the confidence interval\n",
    "print(f\"Confidence interval: [{ci_low:.4f}, {ci_high:.4f}]\")\n",
    "\n",
    "# Calculate the practical significance error and compared it with the confidence interval\n",
    "d_hat = p_experiment - p_control\n",
    "\n",
    "if ci_low <= d_hat <= ci_high:\n",
    "    print(\"Sanity check passed\")\n",
    "else:\n",
    "    print(\"Sanity check failed\")"
   ]
  },
  {
   "cell_type": "markdown",
   "metadata": {},
   "source": [
    "Now the Z-test is performed instead of the study of the confidencte interval"
   ]
  },
  {
   "cell_type": "code",
   "execution_count": null,
   "metadata": {},
   "outputs": [
    {
     "name": "stdout",
     "output_type": "stream",
     "text": [
      "Z-statistic:-0.08566094109242048\n",
      "P-value:0.9317359524473912\n",
      "Sanity check is passed. Failed to reject the null hypothesis\n"
     ]
    }
   ],
   "source": [
    "# Define the Clicks and Pageviews populations\n",
    "n_views = [control[\"Pageviews\"].sum(), experiment[\"Pageviews\"].sum()]\n",
    "n_clicks = [control[\"Clicks\"].sum(), experiment[\"Clicks\"].sum()]\n",
    "\n",
    "# Perform the z-test with the null hypothesis difference  being 0\n",
    "z_stat, p_value = proportions_ztest(\n",
    "    n_clicks, n_views, value=0.0, alternative=\"two-sided\", prop_var=False\n",
    ")\n",
    "\n",
    "print(f\"Z-statistic:{z_stat}\")\n",
    "print(f\"P-value:{p_value}\")\n",
    "\n",
    "if p_value > alpha:\n",
    "    print(\"Sanity check is passed. Failed to reject the null hypothesis\")\n",
    "else:\n",
    "    print(\"Sanity check is failed. Reject the null hypothesis\")"
   ]
  },
  {
   "cell_type": "markdown",
   "metadata": {},
   "source": [
    "#### Evaluation Metrics Sanity Check"
   ]
  },
  {
   "cell_type": "markdown",
   "metadata": {},
   "source": [
    "The check consists in assuming that the probability between the experiment and the control are the same. This will induce theoretically to have the null hypothesis difference equal to 0.\n",
    "\n",
    "$$ H0:CG_\\text{treatment}=CG_\\text{control}$$\n",
    "$$ H1:CG_\\text{treatment}≠CG_\\text{control}$$\n",
    "\n",
    "$$ H0:CN_\\text{treatment}=CN_\\text{control}$$\n",
    "$$ H1:CN_\\text{treatment}≠CN_\\text{control}$$\n",
    "\n",
    "The evaluation metric hypotheses using two proportion z-tests (thereby, the same assumptions as outlined above apply). The respective confidence interval is calculated now around the observed difference between the conversion metrics.\n"
   ]
  },
  {
   "cell_type": "code",
   "execution_count": null,
   "metadata": {},
   "outputs": [
    {
     "data": {
      "text/html": [
       "<div>\n",
       "<style scoped>\n",
       "    .dataframe tbody tr th:only-of-type {\n",
       "        vertical-align: middle;\n",
       "    }\n",
       "\n",
       "    .dataframe tbody tr th {\n",
       "        vertical-align: top;\n",
       "    }\n",
       "\n",
       "    .dataframe thead th {\n",
       "        text-align: right;\n",
       "    }\n",
       "</style>\n",
       "<table border=\"1\" class=\"dataframe\">\n",
       "  <thead>\n",
       "    <tr style=\"text-align: right;\">\n",
       "      <th></th>\n",
       "      <th>Left Interval</th>\n",
       "      <th>Right Interval</th>\n",
       "      <th>d</th>\n",
       "      <th>d min</th>\n",
       "      <th>Practical relevance</th>\n",
       "      <th>Statistical relevance</th>\n",
       "    </tr>\n",
       "  </thead>\n",
       "  <tbody>\n",
       "    <tr>\n",
       "      <th>CN</th>\n",
       "      <td>NaN</td>\n",
       "      <td>NaN</td>\n",
       "      <td>NaN</td>\n",
       "      <td>NaN</td>\n",
       "      <td>NaN</td>\n",
       "      <td>NaN</td>\n",
       "    </tr>\n",
       "    <tr>\n",
       "      <th>CG</th>\n",
       "      <td>NaN</td>\n",
       "      <td>NaN</td>\n",
       "      <td>NaN</td>\n",
       "      <td>NaN</td>\n",
       "      <td>NaN</td>\n",
       "      <td>NaN</td>\n",
       "    </tr>\n",
       "  </tbody>\n",
       "</table>\n",
       "</div>"
      ],
      "text/plain": [
       "   Left Interval Right Interval    d d min Practical relevance  \\\n",
       "CN           NaN            NaN  NaN   NaN                 NaN   \n",
       "CG           NaN            NaN  NaN   NaN                 NaN   \n",
       "\n",
       "   Statistical relevance  \n",
       "CN                   NaN  \n",
       "CG                   NaN  "
      ]
     },
     "execution_count": 110,
     "metadata": {},
     "output_type": "execute_result"
    }
   ],
   "source": [
    "# Tab creation\n",
    "mi = pd.DataFrame(\n",
    "    columns=[\n",
    "        \"Left Interval\",\n",
    "        \"Right Interval\",\n",
    "        \"d\",\n",
    "        \"d min\",\n",
    "        \"Practical relevance\",\n",
    "        \"Statistical relevance\",\n",
    "    ],\n",
    "    index=[\"CN\", \"CG\"],\n",
    ")\n",
    "mi"
   ]
  },
  {
   "cell_type": "markdown",
   "metadata": {},
   "source": [
    "To draw any further conclusion regarding the test outcomes, the practical relevance is considered (or practical significance) to check if the result is statistically significant.\n",
    "\n",
    "The difference between the control and experiment group will represent the effect size that is compared with the Minimum Detectable Effect: if bigger, than the experiment is practical significant. Such condition is met when the MDE is located outside the confidence interval of the observed difference."
   ]
  },
  {
   "cell_type": "code",
   "execution_count": null,
   "metadata": {},
   "outputs": [
    {
     "data": {
      "text/html": [
       "<div>\n",
       "<style scoped>\n",
       "    .dataframe tbody tr th:only-of-type {\n",
       "        vertical-align: middle;\n",
       "    }\n",
       "\n",
       "    .dataframe tbody tr th {\n",
       "        vertical-align: top;\n",
       "    }\n",
       "\n",
       "    .dataframe thead th {\n",
       "        text-align: right;\n",
       "    }\n",
       "</style>\n",
       "<table border=\"1\" class=\"dataframe\">\n",
       "  <thead>\n",
       "    <tr style=\"text-align: right;\">\n",
       "      <th></th>\n",
       "      <th>Left Interval</th>\n",
       "      <th>Right Interval</th>\n",
       "      <th>d</th>\n",
       "      <th>d min</th>\n",
       "      <th>Practical relevance</th>\n",
       "      <th>Statistical relevance</th>\n",
       "    </tr>\n",
       "  </thead>\n",
       "  <tbody>\n",
       "    <tr>\n",
       "      <th>CN</th>\n",
       "      <td>-0.0291</td>\n",
       "      <td>-0.0120</td>\n",
       "      <td>-0.0206</td>\n",
       "      <td>0.0075</td>\n",
       "      <td>No</td>\n",
       "      <td>No</td>\n",
       "    </tr>\n",
       "    <tr>\n",
       "      <th>CG</th>\n",
       "      <td>-0.0116</td>\n",
       "      <td>0.0019</td>\n",
       "      <td>-0.0049</td>\n",
       "      <td>-0.0100</td>\n",
       "      <td>No</td>\n",
       "      <td>Yes</td>\n",
       "    </tr>\n",
       "  </tbody>\n",
       "</table>\n",
       "</div>"
      ],
      "text/plain": [
       "   Left Interval Right Interval       d   d min Practical relevance  \\\n",
       "CN       -0.0291        -0.0120 -0.0206  0.0075                  No   \n",
       "CG       -0.0116         0.0019 -0.0049 -0.0100                  No   \n",
       "\n",
       "   Statistical relevance  \n",
       "CN                    No  \n",
       "CG                   Yes  "
      ]
     },
     "execution_count": 111,
     "metadata": {},
     "output_type": "execute_result"
    }
   ],
   "source": [
    "for i, j in zip([\"Enrollments\", \"Payments\"], [\"CN\", \"CG\"]):\n",
    "    # Given the definition of Gross and Net conversion, we calculate the probability with the data collected by Audacity\n",
    "    p_control = control.iloc[:23][i].sum() / control.iloc[:23][\"Clicks\"].sum()\n",
    "    p_experiment = experiment.iloc[:23][i].sum() / experiment.iloc[:23][\"Clicks\"].sum()\n",
    "    # Calculate the difference d\n",
    "    mi.at[j, \"d\"] = p_experiment - p_control\n",
    "    # Calculate the standard deviation for the control and experiment groups\n",
    "    sd_control = np.sqrt(p_control * (1 - p_control))\n",
    "    sd_experiment = np.sqrt(p_experiment * (1 - p_experiment))\n",
    "    # Calculate the pooled standard error\n",
    "    se_pooled = np.sqrt(\n",
    "        sd_control**2 / control.iloc[:23][\"Clicks\"].sum()\n",
    "        + sd_experiment**2 / experiment.iloc[:23][\"Clicks\"].sum()\n",
    "    )\n",
    "    # Compute the 95% confidence interval around the difference\n",
    "    mi.at[j, \"Left Interval\"] = mi.at[j, \"d\"] - (\n",
    "        stats.norm.ppf(1 - alpha / 2) * se_pooled\n",
    "    )\n",
    "    mi.at[j, \"Right Interval\"] = mi.at[j, \"d\"] + (\n",
    "        stats.norm.ppf(1 - alpha / 2) * se_pooled\n",
    "    )\n",
    "    # Calculate the statistical significance\n",
    "    if mi.at[j, \"Left Interval\"] <= 0 <= mi.at[j, \"Right Interval\"]:\n",
    "        mi.at[j, \"Statistical relevance\"] = \"Yes\"\n",
    "    else:\n",
    "        mi.at[j, \"Statistical relevance\"] = \"No\"\n",
    "\n",
    "    mi.at[j, \"d min\"] = md.loc[j][\"dmin\"]\n",
    "\n",
    "    if mi.at[j, \"d min\"] >= 0:\n",
    "        if (\n",
    "            mi.at[j, \"d\"] > mi.at[j, \"d min\"]\n",
    "            and mi.at[j, \"Left Interval\"] > mi.at[j, \"d min\"]\n",
    "        ):\n",
    "            mi.at[j, \"Practical relevance\"] = \"Yes\"\n",
    "        else:\n",
    "            mi.at[j, \"Practical relevance\"] = \"No\"\n",
    "    else:\n",
    "        if (\n",
    "            mi.at[j, \"d\"] < mi.at[j, \"d min\"]\n",
    "            and mi.at[j, \"Right Interval\"] < mi.at[j, \"d min\"]\n",
    "        ):\n",
    "            mi.at[j, \"Practical relevance\"] = \"Yes\"\n",
    "        else:\n",
    "            mi.at[j, \"Practical relevance\"] = \"No\"\n",
    "\n",
    "# Print the table\n",
    "mi"
   ]
  },
  {
   "cell_type": "markdown",
   "metadata": {},
   "source": [
    "## Conclusion\n",
    "\n",
    "From the latest check it is noticed how none of the metrics have an actual practical relevance for the experiment, that means that there is no difference between the control and experiment variants. Also, only the Gross Conversion has some statistical relevance that makes it unlikley to be random.\n",
    "\n",
    "Upon this results, considering also the amount of resources involved to run the experiment, such test is not recommended from a Business perspective."
   ]
  }
 ],
 "metadata": {
  "kernelspec": {
   "display_name": "Python 3",
   "language": "python",
   "name": "python3"
  },
  "language_info": {
   "codemirror_mode": {
    "name": "ipython",
    "version": 3
   },
   "file_extension": ".py",
   "mimetype": "text/x-python",
   "name": "python",
   "nbconvert_exporter": "python",
   "pygments_lexer": "ipython3",
   "version": "3.13.2"
  }
 },
 "nbformat": 4,
 "nbformat_minor": 2
}
