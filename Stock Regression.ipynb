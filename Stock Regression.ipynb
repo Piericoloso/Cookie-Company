{
 "cells": [
  {
   "cell_type": "markdown",
   "id": "eae5825b",
   "metadata": {},
   "source": [
    "# Stock Exchange Linera Regression"
   ]
  },
  {
   "cell_type": "code",
   "execution_count": null,
   "id": "2a9d067e",
   "metadata": {},
   "outputs": [],
   "source": [
    "import pandas as pd\n",
    "import numpy as np\n",
    "import statsmodels.api as sm\n",
    "from statsmodels.stats.anova import anova_lm\n",
    "import statsmodels.formula.api as smf\n",
    "from ISLP.models import ModelSpec as MS, summarize, poly\n",
    "import matplotlib.pyplot as plt\n",
    "import seaborn as sns"
   ]
  }
 ],
 "metadata": {
  "kernelspec": {
   "display_name": "Python 3",
   "language": "python",
   "name": "python3"
  },
  "language_info": {
   "codemirror_mode": {
    "name": "ipython",
    "version": 3
   },
   "file_extension": ".py",
   "mimetype": "text/x-python",
   "name": "python",
   "nbconvert_exporter": "python",
   "pygments_lexer": "ipython3",
   "version": "3.13.2"
  }
 },
 "nbformat": 4,
 "nbformat_minor": 5
}
