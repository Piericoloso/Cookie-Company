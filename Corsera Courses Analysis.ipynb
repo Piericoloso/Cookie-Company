{
 "cells": [
  {
   "cell_type": "code",
   "execution_count": 397,
   "metadata": {},
   "outputs": [],
   "source": [
    "import pandas as pd"
   ]
  },
  {
   "cell_type": "code",
   "execution_count": 398,
   "metadata": {},
   "outputs": [
    {
     "data": {
      "text/plain": [
       "Index(['Unnamed: 0', 'course_title', 'course_organization',\n",
       "       'course_Certificate_type', 'course_rating', 'course_difficulty',\n",
       "       'course_students_enrolled'],\n",
       "      dtype='object')"
      ]
     },
     "execution_count": 398,
     "metadata": {},
     "output_type": "execute_result"
    }
   ],
   "source": [
    "coursera = pd.read_csv(\"C:/Users/pietr/Desktop/DA_Touring/Data_Visualisation/coursea_data.csv\")\n",
    "\n",
    "coursera.columns"
   ]
  },
  {
   "cell_type": "code",
   "execution_count": 399,
   "metadata": {},
   "outputs": [
    {
     "data": {
      "text/html": [
       "<div>\n",
       "<style scoped>\n",
       "    .dataframe tbody tr th:only-of-type {\n",
       "        vertical-align: middle;\n",
       "    }\n",
       "\n",
       "    .dataframe tbody tr th {\n",
       "        vertical-align: top;\n",
       "    }\n",
       "\n",
       "    .dataframe thead th {\n",
       "        text-align: right;\n",
       "    }\n",
       "</style>\n",
       "<table border=\"1\" class=\"dataframe\">\n",
       "  <thead>\n",
       "    <tr style=\"text-align: right;\">\n",
       "      <th></th>\n",
       "      <th>Unnamed: 0</th>\n",
       "      <th>course_rating</th>\n",
       "    </tr>\n",
       "  </thead>\n",
       "  <tbody>\n",
       "    <tr>\n",
       "      <th>count</th>\n",
       "      <td>891.000000</td>\n",
       "      <td>891.000000</td>\n",
       "    </tr>\n",
       "    <tr>\n",
       "      <th>mean</th>\n",
       "      <td>445.000000</td>\n",
       "      <td>4.677329</td>\n",
       "    </tr>\n",
       "    <tr>\n",
       "      <th>std</th>\n",
       "      <td>257.353842</td>\n",
       "      <td>0.162225</td>\n",
       "    </tr>\n",
       "    <tr>\n",
       "      <th>min</th>\n",
       "      <td>0.000000</td>\n",
       "      <td>3.300000</td>\n",
       "    </tr>\n",
       "    <tr>\n",
       "      <th>25%</th>\n",
       "      <td>222.500000</td>\n",
       "      <td>4.600000</td>\n",
       "    </tr>\n",
       "    <tr>\n",
       "      <th>50%</th>\n",
       "      <td>445.000000</td>\n",
       "      <td>4.700000</td>\n",
       "    </tr>\n",
       "    <tr>\n",
       "      <th>75%</th>\n",
       "      <td>667.500000</td>\n",
       "      <td>4.800000</td>\n",
       "    </tr>\n",
       "    <tr>\n",
       "      <th>max</th>\n",
       "      <td>890.000000</td>\n",
       "      <td>5.000000</td>\n",
       "    </tr>\n",
       "  </tbody>\n",
       "</table>\n",
       "</div>"
      ],
      "text/plain": [
       "       Unnamed: 0  course_rating\n",
       "count  891.000000     891.000000\n",
       "mean   445.000000       4.677329\n",
       "std    257.353842       0.162225\n",
       "min      0.000000       3.300000\n",
       "25%    222.500000       4.600000\n",
       "50%    445.000000       4.700000\n",
       "75%    667.500000       4.800000\n",
       "max    890.000000       5.000000"
      ]
     },
     "execution_count": 399,
     "metadata": {},
     "output_type": "execute_result"
    }
   ],
   "source": [
    "coursera.describe()"
   ]
  },
  {
   "cell_type": "code",
   "execution_count": 400,
   "metadata": {},
   "outputs": [
    {
     "data": {
      "text/html": [
       "<div>\n",
       "<style scoped>\n",
       "    .dataframe tbody tr th:only-of-type {\n",
       "        vertical-align: middle;\n",
       "    }\n",
       "\n",
       "    .dataframe tbody tr th {\n",
       "        vertical-align: top;\n",
       "    }\n",
       "\n",
       "    .dataframe thead th {\n",
       "        text-align: right;\n",
       "    }\n",
       "</style>\n",
       "<table border=\"1\" class=\"dataframe\">\n",
       "  <thead>\n",
       "    <tr style=\"text-align: right;\">\n",
       "      <th></th>\n",
       "      <th>Unnamed: 0</th>\n",
       "      <th>course_title</th>\n",
       "      <th>course_organization</th>\n",
       "      <th>course_Certificate_type</th>\n",
       "      <th>course_rating</th>\n",
       "      <th>course_difficulty</th>\n",
       "      <th>course_students_enrolled</th>\n",
       "    </tr>\n",
       "  </thead>\n",
       "  <tbody>\n",
       "    <tr>\n",
       "      <th>0</th>\n",
       "      <td>134</td>\n",
       "      <td>(ISC)² Systems Security Certified Practitioner...</td>\n",
       "      <td>(ISC)²</td>\n",
       "      <td>SPECIALIZATION</td>\n",
       "      <td>4.7</td>\n",
       "      <td>Beginner</td>\n",
       "      <td>5.3k</td>\n",
       "    </tr>\n",
       "    <tr>\n",
       "      <th>1</th>\n",
       "      <td>743</td>\n",
       "      <td>A Crash Course in Causality:  Inferring Causal...</td>\n",
       "      <td>University of Pennsylvania</td>\n",
       "      <td>COURSE</td>\n",
       "      <td>4.7</td>\n",
       "      <td>Intermediate</td>\n",
       "      <td>17k</td>\n",
       "    </tr>\n",
       "    <tr>\n",
       "      <th>2</th>\n",
       "      <td>874</td>\n",
       "      <td>A Crash Course in Data Science</td>\n",
       "      <td>Johns Hopkins University</td>\n",
       "      <td>COURSE</td>\n",
       "      <td>4.5</td>\n",
       "      <td>Mixed</td>\n",
       "      <td>130k</td>\n",
       "    </tr>\n",
       "    <tr>\n",
       "      <th>3</th>\n",
       "      <td>413</td>\n",
       "      <td>A Law Student's Toolkit</td>\n",
       "      <td>Yale University</td>\n",
       "      <td>COURSE</td>\n",
       "      <td>4.7</td>\n",
       "      <td>Mixed</td>\n",
       "      <td>91k</td>\n",
       "    </tr>\n",
       "    <tr>\n",
       "      <th>4</th>\n",
       "      <td>635</td>\n",
       "      <td>A Life of Happiness and Fulfillment</td>\n",
       "      <td>Indian School of Business</td>\n",
       "      <td>COURSE</td>\n",
       "      <td>4.8</td>\n",
       "      <td>Mixed</td>\n",
       "      <td>320k</td>\n",
       "    </tr>\n",
       "    <tr>\n",
       "      <th>...</th>\n",
       "      <td>...</td>\n",
       "      <td>...</td>\n",
       "      <td>...</td>\n",
       "      <td>...</td>\n",
       "      <td>...</td>\n",
       "      <td>...</td>\n",
       "      <td>...</td>\n",
       "    </tr>\n",
       "    <tr>\n",
       "      <th>886</th>\n",
       "      <td>236</td>\n",
       "      <td>Программирование на Python</td>\n",
       "      <td>Mail.Ru Group</td>\n",
       "      <td>SPECIALIZATION</td>\n",
       "      <td>4.5</td>\n",
       "      <td>Intermediate</td>\n",
       "      <td>52k</td>\n",
       "    </tr>\n",
       "    <tr>\n",
       "      <th>887</th>\n",
       "      <td>883</td>\n",
       "      <td>Психолингвистика (Psycholinguistics)</td>\n",
       "      <td>Saint Petersburg State University</td>\n",
       "      <td>COURSE</td>\n",
       "      <td>4.8</td>\n",
       "      <td>Mixed</td>\n",
       "      <td>21k</td>\n",
       "    </tr>\n",
       "    <tr>\n",
       "      <th>888</th>\n",
       "      <td>545</td>\n",
       "      <td>Разработка интерфейсов: вёрстка и JavaScript</td>\n",
       "      <td>E-Learning Development Fund</td>\n",
       "      <td>SPECIALIZATION</td>\n",
       "      <td>4.5</td>\n",
       "      <td>Intermediate</td>\n",
       "      <td>30k</td>\n",
       "    </tr>\n",
       "    <tr>\n",
       "      <th>889</th>\n",
       "      <td>875</td>\n",
       "      <td>Русский как иностранный</td>\n",
       "      <td>Saint Petersburg State University</td>\n",
       "      <td>SPECIALIZATION</td>\n",
       "      <td>4.6</td>\n",
       "      <td>Intermediate</td>\n",
       "      <td>9.8k</td>\n",
       "    </tr>\n",
       "    <tr>\n",
       "      <th>890</th>\n",
       "      <td>163</td>\n",
       "      <td>Финансовые инструменты для частного инвестора</td>\n",
       "      <td>National Research University Higher School of ...</td>\n",
       "      <td>SPECIALIZATION</td>\n",
       "      <td>4.7</td>\n",
       "      <td>Beginner</td>\n",
       "      <td>38k</td>\n",
       "    </tr>\n",
       "  </tbody>\n",
       "</table>\n",
       "<p>891 rows × 7 columns</p>\n",
       "</div>"
      ],
      "text/plain": [
       "     Unnamed: 0                                       course_title  \\\n",
       "0           134  (ISC)² Systems Security Certified Practitioner...   \n",
       "1           743  A Crash Course in Causality:  Inferring Causal...   \n",
       "2           874                     A Crash Course in Data Science   \n",
       "3           413                            A Law Student's Toolkit   \n",
       "4           635                A Life of Happiness and Fulfillment   \n",
       "..          ...                                                ...   \n",
       "886         236                         Программирование на Python   \n",
       "887         883               Психолингвистика (Psycholinguistics)   \n",
       "888         545       Разработка интерфейсов: вёрстка и JavaScript   \n",
       "889         875                            Русский как иностранный   \n",
       "890         163      Финансовые инструменты для частного инвестора   \n",
       "\n",
       "                                   course_organization  \\\n",
       "0                                               (ISC)²   \n",
       "1                           University of Pennsylvania   \n",
       "2                             Johns Hopkins University   \n",
       "3                                      Yale University   \n",
       "4                            Indian School of Business   \n",
       "..                                                 ...   \n",
       "886                                      Mail.Ru Group   \n",
       "887                  Saint Petersburg State University   \n",
       "888                        E-Learning Development Fund   \n",
       "889                  Saint Petersburg State University   \n",
       "890  National Research University Higher School of ...   \n",
       "\n",
       "    course_Certificate_type  course_rating course_difficulty  \\\n",
       "0            SPECIALIZATION            4.7          Beginner   \n",
       "1                    COURSE            4.7      Intermediate   \n",
       "2                    COURSE            4.5             Mixed   \n",
       "3                    COURSE            4.7             Mixed   \n",
       "4                    COURSE            4.8             Mixed   \n",
       "..                      ...            ...               ...   \n",
       "886          SPECIALIZATION            4.5      Intermediate   \n",
       "887                  COURSE            4.8             Mixed   \n",
       "888          SPECIALIZATION            4.5      Intermediate   \n",
       "889          SPECIALIZATION            4.6      Intermediate   \n",
       "890          SPECIALIZATION            4.7          Beginner   \n",
       "\n",
       "    course_students_enrolled  \n",
       "0                       5.3k  \n",
       "1                        17k  \n",
       "2                       130k  \n",
       "3                        91k  \n",
       "4                       320k  \n",
       "..                       ...  \n",
       "886                      52k  \n",
       "887                      21k  \n",
       "888                      30k  \n",
       "889                     9.8k  \n",
       "890                      38k  \n",
       "\n",
       "[891 rows x 7 columns]"
      ]
     },
     "execution_count": 400,
     "metadata": {},
     "output_type": "execute_result"
    }
   ],
   "source": [
    "coursera.dropna()\n",
    "\n",
    "#same number of rows, it means that none was dropped, hence no NaN number"
   ]
  },
  {
   "cell_type": "code",
   "execution_count": 401,
   "metadata": {},
   "outputs": [],
   "source": [
    "coursera = coursera.drop(columns=\"Unnamed: 0\")"
   ]
  },
  {
   "cell_type": "code",
   "execution_count": 402,
   "metadata": {},
   "outputs": [
    {
     "data": {
      "text/plain": [
       "Index([], dtype='int64')"
      ]
     },
     "execution_count": 402,
     "metadata": {},
     "output_type": "execute_result"
    }
   ],
   "source": [
    "#we check if any NAN value in the columns\n",
    "\n",
    "nan_index_1 = coursera.loc[pd.isna(coursera[\"course_title\"]),:].index\n",
    "\n",
    "nan_index_1\n"
   ]
  },
  {
   "cell_type": "code",
   "execution_count": 403,
   "metadata": {},
   "outputs": [
    {
     "data": {
      "text/plain": [
       "Index([], dtype='int64')"
      ]
     },
     "execution_count": 403,
     "metadata": {},
     "output_type": "execute_result"
    }
   ],
   "source": [
    "nan_index_2 = coursera.loc[pd.isna(coursera[\"course_organization\"]),:].index\n",
    "\n",
    "nan_index_2"
   ]
  },
  {
   "cell_type": "code",
   "execution_count": 404,
   "metadata": {},
   "outputs": [
    {
     "data": {
      "text/plain": [
       "Index([], dtype='int64')"
      ]
     },
     "execution_count": 404,
     "metadata": {},
     "output_type": "execute_result"
    }
   ],
   "source": [
    "nan_index_3 = coursera.loc[pd.isna(coursera[\"course_Certificate_type\"]),:].index\n",
    "\n",
    "nan_index_3"
   ]
  },
  {
   "cell_type": "code",
   "execution_count": 405,
   "metadata": {},
   "outputs": [
    {
     "data": {
      "text/plain": [
       "array(['SPECIALIZATION', 'COURSE', 'PROFESSIONAL CERTIFICATE'],\n",
       "      dtype=object)"
      ]
     },
     "execution_count": 405,
     "metadata": {},
     "output_type": "execute_result"
    }
   ],
   "source": [
    "coursera[\"course_Certificate_type\"].unique()\n",
    "\n",
    "#consider the possibility to drop duplicates of a subset\n",
    "\n",
    "#try to use map function to manipulate "
   ]
  },
  {
   "cell_type": "code",
   "execution_count": 406,
   "metadata": {},
   "outputs": [
    {
     "data": {
      "text/plain": [
       "0      False\n",
       "1      False\n",
       "2      False\n",
       "3      False\n",
       "4      False\n",
       "       ...  \n",
       "886    False\n",
       "887    False\n",
       "888    False\n",
       "889    False\n",
       "890    False\n",
       "Length: 891, dtype: bool"
      ]
     },
     "execution_count": 406,
     "metadata": {},
     "output_type": "execute_result"
    }
   ],
   "source": [
    "#there might be some duplicate when ti comes to tipe of course\n",
    "\n",
    "coursera.duplicated() #same number of rows. no duplicate"
   ]
  },
  {
   "cell_type": "code",
   "execution_count": 407,
   "metadata": {},
   "outputs": [
    {
     "name": "stderr",
     "output_type": "stream",
     "text": [
      "C:\\Users\\pietr\\AppData\\Local\\Temp\\ipykernel_2940\\3559412453.py:1: FutureWarning: pandas.value_counts is deprecated and will be removed in a future version. Use pd.Series(obj).value_counts() instead.\n",
      "  pd.value_counts(coursera[\"course_organization\"])\n"
     ]
    },
    {
     "data": {
      "text/plain": [
       "course_organization\n",
       "University of Pennsylvania     59\n",
       "University of Michigan         41\n",
       "Google Cloud                   34\n",
       "Duke University                28\n",
       "Johns Hopkins University       28\n",
       "                               ..\n",
       "École des Ponts ParisTech       1\n",
       "Tel Aviv University             1\n",
       "The University of Hong Kong     1\n",
       "École Polytechnique             1\n",
       "Mail.Ru Group                   1\n",
       "Name: count, Length: 154, dtype: int64"
      ]
     },
     "execution_count": 407,
     "metadata": {},
     "output_type": "execute_result"
    }
   ],
   "source": [
    "pd.value_counts(coursera[\"course_organization\"])"
   ]
  },
  {
   "cell_type": "code",
   "execution_count": 408,
   "metadata": {},
   "outputs": [
    {
     "data": {
      "text/plain": [
       "count    891.000000\n",
       "mean       4.677329\n",
       "std        0.162225\n",
       "min        3.300000\n",
       "25%        4.600000\n",
       "50%        4.700000\n",
       "75%        4.800000\n",
       "max        5.000000\n",
       "Name: course_rating, dtype: float64"
      ]
     },
     "execution_count": 408,
     "metadata": {},
     "output_type": "execute_result"
    }
   ],
   "source": [
    "#look for outliers and use wishey representation\n",
    "coursera[\"course_rating\"].describe()"
   ]
  },
  {
   "cell_type": "code",
   "execution_count": 409,
   "metadata": {},
   "outputs": [
    {
     "data": {
      "image/png": "[encoded data removed]",
      "text/plain": [
       "<Figure size 640x480 with 1 Axes>"
      ]
     },
     "metadata": {},
     "output_type": "display_data"
    }
   ],
   "source": [
    "#boxplot representation\n",
    "\n",
    "import matplotlib.pyplot as plt\n",
    "\n",
    "fig, ax = plt.subplots()\n",
    "\n",
    "course_rating = [coursera[\"course_rating\"].loc[coursera[\"course_Certificate_type\"]==\"COURSE\"],coursera[\"course_rating\"].loc[coursera[\"course_Certificate_type\"]==\"SPECIALIZATION\"],coursera[\"course_rating\"].loc[coursera[\"course_Certificate_type\"]==\"PROFESSIONAL CERTIFICATE\"]]\n",
    "\n",
    "labels = [\"Course\",\"Specialization\",\"Professional Certificate\"]\n",
    "\n",
    "ax.set_ylabel(\"Course Rating\")\n",
    "\n",
    "ax.boxplot(course_rating, tick_labels=labels);"
   ]
  },
  {
   "cell_type": "code",
   "execution_count": 410,
   "metadata": {},
   "outputs": [
    {
     "name": "stdout",
     "output_type": "stream",
     "text": [
      "COURSE low fence:4.299999999999999\n",
      "COURSE high fence:5.1\n"
     ]
    }
   ],
   "source": [
    "#define low and high fences of the boxplot for Course\n",
    "\n",
    "q1_course = coursera[\"course_rating\"].loc[coursera[\"course_Certificate_type\"]==\"COURSE\"].quantile(0.25)\n",
    "q3_course = coursera[\"course_rating\"].loc[coursera[\"course_Certificate_type\"]==\"COURSE\"].quantile(0.75)\n",
    "iqr_course = q3_course - q1_course\n",
    "\n",
    "low_fence_course = q1_course - 1.5*iqr_course\n",
    "high_fence_course = q3_course + 1.5*iqr_course\n",
    "\n",
    "print(f\"COURSE low fence:{low_fence_course}\\nCOURSE high fence:{high_fence_course}\")\n",
    "\n"
   ]
  },
  {
   "cell_type": "code",
   "execution_count": 411,
   "metadata": {},
   "outputs": [
    {
     "data": {
      "text/html": [
       "<div>\n",
       "<style scoped>\n",
       "    .dataframe tbody tr th:only-of-type {\n",
       "        vertical-align: middle;\n",
       "    }\n",
       "\n",
       "    .dataframe tbody tr th {\n",
       "        vertical-align: top;\n",
       "    }\n",
       "\n",
       "    .dataframe thead th {\n",
       "        text-align: right;\n",
       "    }\n",
       "</style>\n",
       "<table border=\"1\" class=\"dataframe\">\n",
       "  <thead>\n",
       "    <tr style=\"text-align: right;\">\n",
       "      <th></th>\n",
       "      <th>Course Name</th>\n",
       "      <th>Institute</th>\n",
       "      <th>Rating</th>\n",
       "    </tr>\n",
       "  </thead>\n",
       "  <tbody>\n",
       "    <tr>\n",
       "      <th>182</th>\n",
       "      <td>Cybersecurity and Its Ten Domains</td>\n",
       "      <td>University System of Georgia</td>\n",
       "      <td>4.2</td>\n",
       "    </tr>\n",
       "    <tr>\n",
       "      <th>402</th>\n",
       "      <td>Hardware Description Languages for FPGA Design</td>\n",
       "      <td>University of Colorado Boulder</td>\n",
       "      <td>4.2</td>\n",
       "    </tr>\n",
       "    <tr>\n",
       "      <th>413</th>\n",
       "      <td>How To Create a Website in a Weekend! (Project...</td>\n",
       "      <td>The State University of New York</td>\n",
       "      <td>3.3</td>\n",
       "    </tr>\n",
       "    <tr>\n",
       "      <th>445</th>\n",
       "      <td>Instructional Design Foundations and Applications</td>\n",
       "      <td>University of Illinois at Urbana-Champaign</td>\n",
       "      <td>4.2</td>\n",
       "    </tr>\n",
       "    <tr>\n",
       "      <th>515</th>\n",
       "      <td>Introduction to Spreadsheets and Models</td>\n",
       "      <td>University of Pennsylvania</td>\n",
       "      <td>4.2</td>\n",
       "    </tr>\n",
       "    <tr>\n",
       "      <th>522</th>\n",
       "      <td>Introduction to Trading, Machine Learning &amp; GCP</td>\n",
       "      <td>New York Institute of Finance</td>\n",
       "      <td>4.0</td>\n",
       "    </tr>\n",
       "    <tr>\n",
       "      <th>590</th>\n",
       "      <td>Mastering Data Analysis in Excel</td>\n",
       "      <td>Duke University</td>\n",
       "      <td>4.2</td>\n",
       "    </tr>\n",
       "    <tr>\n",
       "      <th>598</th>\n",
       "      <td>Mathematics for Machine Learning: PCA</td>\n",
       "      <td>Imperial College London</td>\n",
       "      <td>4.0</td>\n",
       "    </tr>\n",
       "    <tr>\n",
       "      <th>676</th>\n",
       "      <td>Project Execution</td>\n",
       "      <td>University of California, Irvine</td>\n",
       "      <td>4.2</td>\n",
       "    </tr>\n",
       "  </tbody>\n",
       "</table>\n",
       "</div>"
      ],
      "text/plain": [
       "                                           Course Name  \\\n",
       "182                  Cybersecurity and Its Ten Domains   \n",
       "402     Hardware Description Languages for FPGA Design   \n",
       "413  How To Create a Website in a Weekend! (Project...   \n",
       "445  Instructional Design Foundations and Applications   \n",
       "515            Introduction to Spreadsheets and Models   \n",
       "522    Introduction to Trading, Machine Learning & GCP   \n",
       "590                   Mastering Data Analysis in Excel   \n",
       "598              Mathematics for Machine Learning: PCA   \n",
       "676                                  Project Execution   \n",
       "\n",
       "                                      Institute  Rating  \n",
       "182                University System of Georgia     4.2  \n",
       "402              University of Colorado Boulder     4.2  \n",
       "413            The State University of New York     3.3  \n",
       "445  University of Illinois at Urbana-Champaign     4.2  \n",
       "515                  University of Pennsylvania     4.2  \n",
       "522               New York Institute of Finance     4.0  \n",
       "590                             Duke University     4.2  \n",
       "598                     Imperial College London     4.0  \n",
       "676            University of California, Irvine     4.2  "
      ]
     },
     "execution_count": 411,
     "metadata": {},
     "output_type": "execute_result"
    }
   ],
   "source": [
    "#identify the outliers for course rating\n",
    "\n",
    "course_outliers = coursera.loc[(coursera[\"course_rating\"]< 4.29) & (coursera[\"course_Certificate_type\"] == \"COURSE\")]\n",
    "course_outliers[[\"course_title\",\"course_organization\",\"course_rating\"]]\n",
    "course_outliers = course_outliers.rename(columns={\"course_title\":\"Course Name\",\"course_organization\":\"Institute\",\"course_rating\":\"Rating\"})\n",
    "course_outliers[[\"Course Name\",\"Institute\",\"Rating\"]]"
   ]
  },
  {
   "cell_type": "code",
   "execution_count": 412,
   "metadata": {},
   "outputs": [
    {
     "data": {
      "text/html": [
       "<div>\n",
       "<style scoped>\n",
       "    .dataframe tbody tr th:only-of-type {\n",
       "        vertical-align: middle;\n",
       "    }\n",
       "\n",
       "    .dataframe tbody tr th {\n",
       "        vertical-align: top;\n",
       "    }\n",
       "\n",
       "    .dataframe thead th {\n",
       "        text-align: right;\n",
       "    }\n",
       "</style>\n",
       "<table border=\"1\" class=\"dataframe\">\n",
       "  <thead>\n",
       "    <tr style=\"text-align: right;\">\n",
       "      <th></th>\n",
       "      <th>Course Name</th>\n",
       "      <th>Institute</th>\n",
       "      <th>Rating</th>\n",
       "    </tr>\n",
       "  </thead>\n",
       "  <tbody>\n",
       "    <tr>\n",
       "      <th>414</th>\n",
       "      <td>How to Start Your Own Business</td>\n",
       "      <td>Michigan State University</td>\n",
       "      <td>4.1</td>\n",
       "    </tr>\n",
       "    <tr>\n",
       "      <th>566</th>\n",
       "      <td>Machine Learning and Reinforcement Learning in...</td>\n",
       "      <td>New York University</td>\n",
       "      <td>3.7</td>\n",
       "    </tr>\n",
       "    <tr>\n",
       "      <th>569</th>\n",
       "      <td>Machine Learning for Trading</td>\n",
       "      <td>Google Cloud</td>\n",
       "      <td>3.9</td>\n",
       "    </tr>\n",
       "    <tr>\n",
       "      <th>873</th>\n",
       "      <td>iOS App Development with Swift</td>\n",
       "      <td>University of Toronto</td>\n",
       "      <td>3.9</td>\n",
       "    </tr>\n",
       "  </tbody>\n",
       "</table>\n",
       "</div>"
      ],
      "text/plain": [
       "                                           Course Name  \\\n",
       "414                     How to Start Your Own Business   \n",
       "566  Machine Learning and Reinforcement Learning in...   \n",
       "569                       Machine Learning for Trading   \n",
       "873                     iOS App Development with Swift   \n",
       "\n",
       "                     Institute  Rating  \n",
       "414  Michigan State University     4.1  \n",
       "566        New York University     3.7  \n",
       "569               Google Cloud     3.9  \n",
       "873      University of Toronto     3.9  "
      ]
     },
     "execution_count": 412,
     "metadata": {},
     "output_type": "execute_result"
    }
   ],
   "source": [
    "#define low and high fences of the boxplot for Course\n",
    "\n",
    "q1_splz = coursera[\"course_rating\"].loc[coursera[\"course_Certificate_type\"]==\"SPECIALIZATION\"].quantile(0.25)\n",
    "q3_splz = coursera[\"course_rating\"].loc[coursera[\"course_Certificate_type\"]==\"SPECIALIZATION\"].quantile(0.75)\n",
    "iqr_splz = q3_splz - q1_splz\n",
    "\n",
    "low_fence_splz = q1_splz - 1.5*iqr_splz\n",
    "high_fence_splz = q3_splz + 1.5*iqr_splz\n",
    "\n",
    "course_outliers = coursera.loc[(coursera[\"course_rating\"]< low_fence_splz) & (coursera[\"course_Certificate_type\"] == \"SPECIALIZATION\")]\n",
    "course_outliers[[\"course_title\",\"course_organization\",\"course_rating\"]]\n",
    "course_outliers = course_outliers.rename(columns={\"course_title\":\"Course Name\",\"course_organization\":\"Institute\",\"course_rating\":\"Rating\"})\n",
    "course_outliers[[\"Course Name\",\"Institute\",\"Rating\"]]"
   ]
  },
  {
   "cell_type": "code",
   "execution_count": 413,
   "metadata": {},
   "outputs": [
    {
     "data": {
      "text/html": [
       "<div>\n",
       "<style scoped>\n",
       "    .dataframe tbody tr th:only-of-type {\n",
       "        vertical-align: middle;\n",
       "    }\n",
       "\n",
       "    .dataframe tbody tr th {\n",
       "        vertical-align: top;\n",
       "    }\n",
       "\n",
       "    .dataframe thead th {\n",
       "        text-align: right;\n",
       "    }\n",
       "</style>\n",
       "<table border=\"1\" class=\"dataframe\">\n",
       "  <thead>\n",
       "    <tr style=\"text-align: right;\">\n",
       "      <th></th>\n",
       "      <th>Rating</th>\n",
       "    </tr>\n",
       "    <tr>\n",
       "      <th>Course Type</th>\n",
       "      <th></th>\n",
       "    </tr>\n",
       "  </thead>\n",
       "  <tbody>\n",
       "    <tr>\n",
       "      <th>COURSE</th>\n",
       "      <td>4.707045</td>\n",
       "    </tr>\n",
       "    <tr>\n",
       "      <th>PROFESSIONAL CERTIFICATE</th>\n",
       "      <td>4.700000</td>\n",
       "    </tr>\n",
       "    <tr>\n",
       "      <th>SPECIALIZATION</th>\n",
       "      <td>4.618182</td>\n",
       "    </tr>\n",
       "  </tbody>\n",
       "</table>\n",
       "</div>"
      ],
      "text/plain": [
       "                            Rating\n",
       "Course Type                       \n",
       "COURSE                    4.707045\n",
       "PROFESSIONAL CERTIFICATE  4.700000\n",
       "SPECIALIZATION            4.618182"
      ]
     },
     "execution_count": 413,
     "metadata": {},
     "output_type": "execute_result"
    }
   ],
   "source": [
    "#study categorical data with depiction\n",
    "#counting correlation between course type, course difficulty and rating\n",
    "\n",
    "rating_mean = coursera[[\"course_Certificate_type\",\"course_rating\"]].groupby(by=\"course_Certificate_type\").mean()\n",
    "rating_mean.index.names = [\"Course Type\"]\n",
    "rating_mean.rename(columns={\"course_rating\":\"Rating\",\"course_Certificate_type\":\"Course Type\"})\n"
   ]
  },
  {
   "cell_type": "code",
   "execution_count": 414,
   "metadata": {},
   "outputs": [
    {
     "data": {
      "text/html": [
       "<div>\n",
       "<style scoped>\n",
       "    .dataframe tbody tr th:only-of-type {\n",
       "        vertical-align: middle;\n",
       "    }\n",
       "\n",
       "    .dataframe tbody tr th {\n",
       "        vertical-align: top;\n",
       "    }\n",
       "\n",
       "    .dataframe thead th {\n",
       "        text-align: right;\n",
       "    }\n",
       "</style>\n",
       "<table border=\"1\" class=\"dataframe\">\n",
       "  <thead>\n",
       "    <tr style=\"text-align: right;\">\n",
       "      <th>Difficulty</th>\n",
       "      <th>Beginner</th>\n",
       "      <th>Intermediate</th>\n",
       "      <th>Advanced</th>\n",
       "      <th>Mixed</th>\n",
       "    </tr>\n",
       "    <tr>\n",
       "      <th>Course Type</th>\n",
       "      <th></th>\n",
       "      <th></th>\n",
       "      <th></th>\n",
       "      <th></th>\n",
       "    </tr>\n",
       "  </thead>\n",
       "  <tbody>\n",
       "    <tr>\n",
       "      <th>COURSE</th>\n",
       "      <td>282</td>\n",
       "      <td>104</td>\n",
       "      <td>9</td>\n",
       "      <td>187</td>\n",
       "    </tr>\n",
       "    <tr>\n",
       "      <th>PROFESSIONAL CERTIFICATE</th>\n",
       "      <td>9</td>\n",
       "      <td>3</td>\n",
       "      <td>0</td>\n",
       "      <td>0</td>\n",
       "    </tr>\n",
       "    <tr>\n",
       "      <th>SPECIALIZATION</th>\n",
       "      <td>196</td>\n",
       "      <td>91</td>\n",
       "      <td>10</td>\n",
       "      <td>0</td>\n",
       "    </tr>\n",
       "  </tbody>\n",
       "</table>\n",
       "</div>"
      ],
      "text/plain": [
       "Difficulty                Beginner  Intermediate  Advanced  Mixed\n",
       "Course Type                                                      \n",
       "COURSE                         282           104         9    187\n",
       "PROFESSIONAL CERTIFICATE         9             3         0      0\n",
       "SPECIALIZATION                 196            91        10      0"
      ]
     },
     "execution_count": 414,
     "metadata": {},
     "output_type": "execute_result"
    }
   ],
   "source": [
    "#study categorical data with crosstab function\n",
    "\n",
    "difficulty_level = coursera.rename(columns={\"course_difficulty\":\"Difficulty\"})\n",
    "\n",
    "difficulty_level = pd.crosstab(index=coursera[\"course_Certificate_type\"],columns=coursera[\"course_difficulty\"])\n",
    "\n",
    "difficulty_level.index.names = [\"Course Type\"]\n",
    "\n",
    "difficulty_level.columns.names = [\"Difficulty\"]\n",
    "\n",
    "difficulty_level = difficulty_level[[\"Beginner\",\"Intermediate\",\"Advanced\",\"Mixed\"]]\n",
    "\n",
    "difficulty_level\n"
   ]
  },
  {
   "cell_type": "code",
   "execution_count": 415,
   "metadata": {},
   "outputs": [
    {
     "data": {
      "image/png": "[encoded data removed]",
      "text/plain": [
       "<Figure size 640x480 with 1 Axes>"
      ]
     },
     "metadata": {},
     "output_type": "display_data"
    }
   ],
   "source": [
    "#create distribution with type of course and difficulty \n",
    "\n",
    "import seaborn as sns\n",
    "\n",
    "coursera[\"course_difficulty\"] = pd.Categorical(coursera[\"course_difficulty\"],[\"Beginner\",\"Intermediate\",\"Advanced\",\"Mixed\"])\n",
    "\n",
    "fig = sns.histplot(data=coursera,x=\"course_difficulty\",hue=\"course_Certificate_type\",multiple=\"dodge\",shrink=0.8,stat=\"count\",legend=True)\n",
    "\n",
    "fig.set(xlabel=\"Course Difficulty\",ylabel=\"Number of Courses\")\n",
    "\n",
    "plt.legend([\"Professional Certificate\",\"Course\",\"Specialization\"],title=\"Course Type\");"
   ]
  },
  {
   "cell_type": "code",
   "execution_count": 416,
   "metadata": {},
   "outputs": [
    {
     "data": {
      "text/plain": [
       "Index(['course_title', 'course_organization', 'course_Certificate_type',\n",
       "       'course_rating', 'course_difficulty', 'course_students_enrolled'],\n",
       "      dtype='object')"
      ]
     },
     "execution_count": 416,
     "metadata": {},
     "output_type": "execute_result"
    }
   ],
   "source": [
    "coursera.columns"
   ]
  },
  {
   "cell_type": "code",
   "execution_count": 417,
   "metadata": {},
   "outputs": [
    {
     "data": {
      "text/html": [
       "<div>\n",
       "<style scoped>\n",
       "    .dataframe tbody tr th:only-of-type {\n",
       "        vertical-align: middle;\n",
       "    }\n",
       "\n",
       "    .dataframe tbody tr th {\n",
       "        vertical-align: top;\n",
       "    }\n",
       "\n",
       "    .dataframe thead th {\n",
       "        text-align: right;\n",
       "    }\n",
       "</style>\n",
       "<table border=\"1\" class=\"dataframe\">\n",
       "  <thead>\n",
       "    <tr style=\"text-align: right;\">\n",
       "      <th></th>\n",
       "      <th>Beginner</th>\n",
       "      <th>Intermediate</th>\n",
       "      <th>Advanced</th>\n",
       "      <th>Mixed</th>\n",
       "    </tr>\n",
       "  </thead>\n",
       "  <tbody>\n",
       "    <tr>\n",
       "      <th>Mean Rating</th>\n",
       "      <td>4.680903</td>\n",
       "      <td>4.646465</td>\n",
       "      <td>4.6</td>\n",
       "      <td>4.708556</td>\n",
       "    </tr>\n",
       "  </tbody>\n",
       "</table>\n",
       "</div>"
      ],
      "text/plain": [
       "             Beginner  Intermediate  Advanced     Mixed\n",
       "Mean Rating  4.680903      4.646465       4.6  4.708556"
      ]
     },
     "execution_count": 417,
     "metadata": {},
     "output_type": "execute_result"
    }
   ],
   "source": [
    "# mean rating for each difficulty level\n",
    "\n",
    "\"\"\"Categorical objects must be defined ordered before they can be indexed.\n",
    " The error message tells us to use the as_ordered()\"\"\"\n",
    "\n",
    "\"\"\"course rating is not a continuous variable, enrolled student is categorical, maybe better with histogram\"\"\"\n",
    "\n",
    "difficulty_mean = pd.DataFrame({\"Beginner\":[coursera[\"course_rating\"].loc[coursera[\"course_difficulty\"]==\"Beginner\"].mean()],\n",
    "\"Intermediate\":[coursera[\"course_rating\"].loc[coursera[\"course_difficulty\"]==\"Intermediate\"].mean()],\n",
    "\"Advanced\":[coursera[\"course_rating\"].loc[coursera[\"course_difficulty\"]==\"Advanced\"].mean()],\n",
    "\"Mixed\":[coursera[\"course_rating\"].loc[coursera[\"course_difficulty\"]==\"Mixed\"].mean()]},index=[\"Mean Rating\"])\n",
    "\n",
    "difficulty_mean"
   ]
  },
  {
   "cell_type": "code",
   "execution_count": 418,
   "metadata": {},
   "outputs": [
    {
     "data": {
      "text/plain": [
       "course_difficulty\n",
       "Advanced         66547.368421\n",
       "Beginner         81974.948665\n",
       "Intermediate     73264.141414\n",
       "Mixed           133633.155080\n",
       "Name: students_enrolled, dtype: float64"
      ]
     },
     "execution_count": 418,
     "metadata": {},
     "output_type": "execute_result"
    }
   ],
   "source": [
    "# what is the trend of students enrolling in course - boxplot does not give a proper solution,\n",
    "# it is not a trend over the time, but rather the mean of enrolled students\n",
    "\n",
    "#enrolled students number is categorical \n",
    "\n",
    "coursera = pd.read_csv(\"C:/Users/pietr/Desktop/DA_Touring/Data_Visualisation/coursea_data.csv\")\n",
    "\n",
    "def convert_to_float(value):\n",
    "    if 'k' in value:\n",
    "        return float(value.replace('k', '')) * 1e3\n",
    "    elif 'm' in value:\n",
    "        return float(value.replace('m', '')) * 1e6\n",
    "    else:\n",
    "        return float(value)\n",
    "\n",
    "coursera[\"students_enrolled\"] = coursera[\"course_students_enrolled\"].apply(convert_to_float)\n",
    "\n",
    "coursera.drop(labels=\"course_students_enrolled\",axis=1)\n",
    "\n",
    "coursera.groupby(by=\"course_difficulty\")[\"students_enrolled\"].mean()\n",
    "\n",
    "\n",
    "#create new colums\n"
   ]
  },
  {
   "cell_type": "code",
   "execution_count": 419,
   "metadata": {},
   "outputs": [
    {
     "data": {
      "text/plain": [
       "course_difficulty\n",
       "Advanced             NaN\n",
       "Beginner        4.833333\n",
       "Intermediate    4.723077\n",
       "Mixed                NaN\n",
       "Name: deeplearning.ai, dtype: float64"
      ]
     },
     "execution_count": 419,
     "metadata": {},
     "output_type": "execute_result"
    }
   ],
   "source": [
    "#which university has the most course - value count + mean rating\n",
    "\n",
    "university_rating = pd.crosstab(coursera[\"course_organization\"],coursera[\"course_difficulty\"],values=coursera[\"course_rating\"],aggfunc=\"mean\")\n",
    "\n",
    "university_rating.loc[\"deeplearning.ai\"]"
   ]
  },
  {
   "cell_type": "code",
   "execution_count": 422,
   "metadata": {},
   "outputs": [
    {
     "data": {
      "text/plain": [
       "course_organization\n",
       "(ISC)²                                          4.733333\n",
       "Amazon Web Services                             4.550000\n",
       "American Institute of Business and Economics    4.400000\n",
       "American Museum of Natural History              4.750000\n",
       "Arizona State University                        4.771429\n",
       "                                                  ...   \n",
       "Yonsei University                               4.750000\n",
       "deeplearning.ai                                 4.743750\n",
       "École Polytechnique                             4.800000\n",
       "École Polytechnique Fédérale de Lausanne        4.725000\n",
       "École des Ponts ParisTech                       4.700000\n",
       "Name: course_rating, Length: 154, dtype: float64"
      ]
     },
     "execution_count": 422,
     "metadata": {},
     "output_type": "execute_result"
    }
   ],
   "source": [
    "mean_rating = coursera.groupby(by=\"course_organization\")[\"course_rating\"].mean()\n",
    "\n",
    "mean_rating\n",
    "\n"
   ]
  },
  {
   "cell_type": "code",
   "execution_count": null,
   "metadata": {},
   "outputs": [
    {
     "data": {
      "text/plain": [
       "course_Certificate_type\n",
       "COURSE                       87854.467354\n",
       "PROFESSIONAL CERTIFICATE    190700.000000\n",
       "SPECIALIZATION               91791.919192\n",
       "Name: students_enrolled, dtype: float64"
      ]
     },
     "execution_count": 389,
     "metadata": {},
     "output_type": "execute_result"
    }
   ],
   "source": [
    "#how course_type is related to enrollemnt - mean of enrollment for course type\n",
    "\n",
    "coursera.groupby(by=\"course_Certificate_type\")[\"students_enrolled\"].mean()\n"
   ]
  },
  {
   "cell_type": "code",
   "execution_count": 430,
   "metadata": {},
   "outputs": [
    {
     "name": "stdout",
     "output_type": "stream",
     "text": [
      "<pandas.core.groupby.generic.SeriesGroupBy object at 0x00000243DAC6D1C0>\n"
     ]
    }
   ],
   "source": [
    "#correlation between course difficulty and course type - categorical correlation ?\n",
    "\n",
    "coursera = pd.read_csv(\"C:/Users/pietr/Desktop/DA_Touring/Data_Visualisation/coursea_data.csv\")\n",
    "\n",
    "grouped = coursera.groupby([\"course_Certificate_type\"])\n",
    "\n",
    "print(grouped[\"course_rating\"])\n",
    "\n",
    "\n",
    "\n"
   ]
  }
 ],
 "metadata": {
  "kernelspec": {
   "display_name": "Python 3",
   "language": "python",
   "name": "python3"
  },
  "language_info": {
   "codemirror_mode": {
    "name": "ipython",
    "version": 3
   },
   "file_extension": ".py",
   "mimetype": "text/x-python",
   "name": "python",
   "nbconvert_exporter": "python",
   "pygments_lexer": "ipython3",
   "version": "3.9.13"
  }
 },
 "nbformat": 4,
 "nbformat_minor": 2
}
